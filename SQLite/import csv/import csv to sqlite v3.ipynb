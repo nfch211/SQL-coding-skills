{
 "cells": [
  {
   "cell_type": "code",
   "execution_count": 2,
   "metadata": {},
   "outputs": [
    {
     "name": "stderr",
     "output_type": "stream",
     "text": [
      "c:\\Users\\hofong\\Desktop\\python\\Python working station\\.venv\\Lib\\site-packages\\openpyxl\\worksheet\\_reader.py:329: UserWarning: Conditional Formatting extension is not supported and will be removed\n",
      "  warn(msg)\n",
      "c:\\Users\\hofong\\Desktop\\python\\Python working station\\.venv\\Lib\\site-packages\\openpyxl\\worksheet\\_reader.py:329: UserWarning: Data Validation extension is not supported and will be removed\n",
      "  warn(msg)\n"
     ]
    },
    {
     "name": "stdout",
     "output_type": "stream",
     "text": [
      "Saved CSV file: C:\\Users\\hofong\\Desktop\\python\\Python working station\\Import files to DB\\CSV Converter\\2021 ISS - Govt_subsidy ISS (added non local exhibitor 2023309)_Doc-1-Summary.csv\n"
     ]
    },
    {
     "name": "stderr",
     "output_type": "stream",
     "text": [
      "c:\\Users\\hofong\\Desktop\\python\\Python working station\\.venv\\Lib\\site-packages\\openpyxl\\worksheet\\_reader.py:329: UserWarning: Data Validation extension is not supported and will be removed\n",
      "  warn(msg)\n"
     ]
    },
    {
     "name": "stdout",
     "output_type": "stream",
     "text": [
      "Saved CSV file: C:\\Users\\hofong\\Desktop\\python\\Python working station\\Import files to DB\\CSV Converter\\2021 ISS - Govt_subsidy ISS (added non local exhibitor 2023309)_Doc-1-Non Local.csv\n"
     ]
    },
    {
     "name": "stderr",
     "output_type": "stream",
     "text": [
      "c:\\Users\\hofong\\Desktop\\python\\Python working station\\.venv\\Lib\\site-packages\\openpyxl\\worksheet\\_reader.py:329: UserWarning: Conditional Formatting extension is not supported and will be removed\n",
      "  warn(msg)\n",
      "c:\\Users\\hofong\\Desktop\\python\\Python working station\\.venv\\Lib\\site-packages\\openpyxl\\worksheet\\_reader.py:329: UserWarning: Data Validation extension is not supported and will be removed\n",
      "  warn(msg)\n",
      "c:\\Users\\hofong\\Desktop\\python\\Python working station\\.venv\\Lib\\site-packages\\openpyxl\\worksheet\\_reader.py:329: UserWarning: Data Validation extension is not supported and will be removed\n",
      "  warn(msg)\n"
     ]
    },
    {
     "name": "stdout",
     "output_type": "stream",
     "text": [
      "Saved CSV file: C:\\Users\\hofong\\Desktop\\python\\Python working station\\Import files to DB\\CSV Converter\\Govt_subsidy Asia Summit on Global Health (SP)(added non local exhibitor 20230309)_Doc-1-Summary.csv\n",
      "Saved CSV file: C:\\Users\\hofong\\Desktop\\python\\Python working station\\Import files to DB\\CSV Converter\\Govt_subsidy Asia Summit on Global Health (SP)(added non local exhibitor 20230309)_Doc-1-Non Local.csv\n"
     ]
    },
    {
     "name": "stderr",
     "output_type": "stream",
     "text": [
      "c:\\Users\\hofong\\Desktop\\python\\Python working station\\.venv\\Lib\\site-packages\\openpyxl\\worksheet\\_reader.py:329: UserWarning: Conditional Formatting extension is not supported and will be removed\n",
      "  warn(msg)\n",
      "c:\\Users\\hofong\\Desktop\\python\\Python working station\\.venv\\Lib\\site-packages\\openpyxl\\worksheet\\_reader.py:329: UserWarning: Data Validation extension is not supported and will be removed\n",
      "  warn(msg)\n"
     ]
    },
    {
     "name": "stdout",
     "output_type": "stream",
     "text": [
      "Saved CSV file: C:\\Users\\hofong\\Desktop\\python\\Python working station\\Import files to DB\\CSV Converter\\Govt_subsidy CENTRESTAGE (added non local exhibitor 20230309)_Doc-1-Summary.csv\n"
     ]
    },
    {
     "name": "stderr",
     "output_type": "stream",
     "text": [
      "c:\\Users\\hofong\\Desktop\\python\\Python working station\\.venv\\Lib\\site-packages\\openpyxl\\worksheet\\_reader.py:329: UserWarning: Data Validation extension is not supported and will be removed\n",
      "  warn(msg)\n"
     ]
    },
    {
     "name": "stdout",
     "output_type": "stream",
     "text": [
      "Saved CSV file: C:\\Users\\hofong\\Desktop\\python\\Python working station\\Import files to DB\\CSV Converter\\Govt_subsidy CENTRESTAGE (added non local exhibitor 20230309)_Doc-1-Non Local.csv\n"
     ]
    },
    {
     "name": "stderr",
     "output_type": "stream",
     "text": [
      "c:\\Users\\hofong\\Desktop\\python\\Python working station\\.venv\\Lib\\site-packages\\openpyxl\\worksheet\\_reader.py:329: UserWarning: Conditional Formatting extension is not supported and will be removed\n",
      "  warn(msg)\n",
      "c:\\Users\\hofong\\Desktop\\python\\Python working station\\.venv\\Lib\\site-packages\\openpyxl\\worksheet\\_reader.py:329: UserWarning: Data Validation extension is not supported and will be removed\n",
      "  warn(msg)\n"
     ]
    },
    {
     "name": "stdout",
     "output_type": "stream",
     "text": [
      "Saved CSV file: C:\\Users\\hofong\\Desktop\\python\\Python working station\\Import files to DB\\CSV Converter\\Govt_subsidy DIAMOND (added non local exhibitor 20230308)_Doc-1-Summary.csv\n"
     ]
    },
    {
     "name": "stderr",
     "output_type": "stream",
     "text": [
      "c:\\Users\\hofong\\Desktop\\python\\Python working station\\.venv\\Lib\\site-packages\\openpyxl\\worksheet\\_reader.py:329: UserWarning: Data Validation extension is not supported and will be removed\n",
      "  warn(msg)\n",
      "c:\\Users\\hofong\\Desktop\\python\\Python working station\\.venv\\Lib\\site-packages\\openpyxl\\worksheet\\_reader.py:329: UserWarning: Conditional Formatting extension is not supported and will be removed\n",
      "  warn(msg)\n",
      "c:\\Users\\hofong\\Desktop\\python\\Python working station\\.venv\\Lib\\site-packages\\openpyxl\\worksheet\\_reader.py:329: UserWarning: Data Validation extension is not supported and will be removed\n",
      "  warn(msg)\n"
     ]
    },
    {
     "name": "stdout",
     "output_type": "stream",
     "text": [
      "Saved CSV file: C:\\Users\\hofong\\Desktop\\python\\Python working station\\Import files to DB\\CSV Converter\\Govt_subsidy DIAMOND (added non local exhibitor 20230308)_Doc-1-Non Local.csv\n",
      "Saved CSV file: C:\\Users\\hofong\\Desktop\\python\\Python working station\\Import files to DB\\CSV Converter\\Govt_subsidy eA (revised on 20211124)_Doc-1-Summary.csv\n"
     ]
    },
    {
     "name": "stderr",
     "output_type": "stream",
     "text": [
      "c:\\Users\\hofong\\Desktop\\python\\Python working station\\.venv\\Lib\\site-packages\\openpyxl\\worksheet\\_reader.py:329: UserWarning: Conditional Formatting extension is not supported and will be removed\n",
      "  warn(msg)\n",
      "c:\\Users\\hofong\\Desktop\\python\\Python working station\\.venv\\Lib\\site-packages\\openpyxl\\worksheet\\_reader.py:329: UserWarning: Data Validation extension is not supported and will be removed\n",
      "  warn(msg)\n"
     ]
    },
    {
     "name": "stdout",
     "output_type": "stream",
     "text": [
      "Saved CSV file: C:\\Users\\hofong\\Desktop\\python\\Python working station\\Import files to DB\\CSV Converter\\Govt_subsidy ECO (revised on 20211124)_Doc-1-Summary.csv\n"
     ]
    },
    {
     "name": "stderr",
     "output_type": "stream",
     "text": [
      "c:\\Users\\hofong\\Desktop\\python\\Python working station\\.venv\\Lib\\site-packages\\openpyxl\\worksheet\\_reader.py:329: UserWarning: Conditional Formatting extension is not supported and will be removed\n",
      "  warn(msg)\n",
      "c:\\Users\\hofong\\Desktop\\python\\Python working station\\.venv\\Lib\\site-packages\\openpyxl\\worksheet\\_reader.py:329: UserWarning: Data Validation extension is not supported and will be removed\n",
      "  warn(msg)\n"
     ]
    },
    {
     "name": "stdout",
     "output_type": "stream",
     "text": [
      "Saved CSV file: C:\\Users\\hofong\\Desktop\\python\\Python working station\\Import files to DB\\CSV Converter\\Govt_subsidy HKEF(AE) (added non local exhibitor 20230309)_Doc-1-Summary.csv\n"
     ]
    },
    {
     "name": "stderr",
     "output_type": "stream",
     "text": [
      "c:\\Users\\hofong\\Desktop\\python\\Python working station\\.venv\\Lib\\site-packages\\openpyxl\\worksheet\\_reader.py:329: UserWarning: Data Validation extension is not supported and will be removed\n",
      "  warn(msg)\n"
     ]
    },
    {
     "name": "stdout",
     "output_type": "stream",
     "text": [
      "Saved CSV file: C:\\Users\\hofong\\Desktop\\python\\Python working station\\Import files to DB\\CSV Converter\\Govt_subsidy HKEF(AE) (added non local exhibitor 20230309)_Doc-1-Non Local.csv\n"
     ]
    },
    {
     "name": "stderr",
     "output_type": "stream",
     "text": [
      "c:\\Users\\hofong\\Desktop\\python\\Python working station\\.venv\\Lib\\site-packages\\openpyxl\\worksheet\\_reader.py:329: UserWarning: Conditional Formatting extension is not supported and will be removed\n",
      "  warn(msg)\n",
      "c:\\Users\\hofong\\Desktop\\python\\Python working station\\.venv\\Lib\\site-packages\\openpyxl\\worksheet\\_reader.py:329: UserWarning: Data Validation extension is not supported and will be removed\n",
      "  warn(msg)\n"
     ]
    },
    {
     "name": "stdout",
     "output_type": "stream",
     "text": [
      "Saved CSV file: C:\\Users\\hofong\\Desktop\\python\\Python working station\\Import files to DB\\CSV Converter\\Govt_subsidy HKILF(AE) (added non local exhibitor 20230309)_Doc-1-Summary.csv\n"
     ]
    },
    {
     "name": "stderr",
     "output_type": "stream",
     "text": [
      "c:\\Users\\hofong\\Desktop\\python\\Python working station\\.venv\\Lib\\site-packages\\openpyxl\\worksheet\\_reader.py:329: UserWarning: Data Validation extension is not supported and will be removed\n",
      "  warn(msg)\n",
      "c:\\Users\\hofong\\Desktop\\python\\Python working station\\.venv\\Lib\\site-packages\\openpyxl\\worksheet\\_reader.py:329: UserWarning: Conditional Formatting extension is not supported and will be removed\n",
      "  warn(msg)\n",
      "c:\\Users\\hofong\\Desktop\\python\\Python working station\\.venv\\Lib\\site-packages\\openpyxl\\worksheet\\_reader.py:329: UserWarning: Data Validation extension is not supported and will be removed\n",
      "  warn(msg)\n"
     ]
    },
    {
     "name": "stdout",
     "output_type": "stream",
     "text": [
      "Saved CSV file: C:\\Users\\hofong\\Desktop\\python\\Python working station\\Import files to DB\\CSV Converter\\Govt_subsidy HKILF(AE) (added non local exhibitor 20230309)_Doc-1-Non Local.csv\n",
      "Saved CSV file: C:\\Users\\hofong\\Desktop\\python\\Python working station\\Import files to DB\\CSV Converter\\Govt_subsidy HKWCF (revised on 20211124) updated BR date_Doc-1-Summary.csv\n"
     ]
    },
    {
     "name": "stderr",
     "output_type": "stream",
     "text": [
      "c:\\Users\\hofong\\Desktop\\python\\Python working station\\.venv\\Lib\\site-packages\\openpyxl\\worksheet\\_reader.py:329: UserWarning: Conditional Formatting extension is not supported and will be removed\n",
      "  warn(msg)\n",
      "c:\\Users\\hofong\\Desktop\\python\\Python working station\\.venv\\Lib\\site-packages\\openpyxl\\worksheet\\_reader.py:329: UserWarning: Data Validation extension is not supported and will be removed\n",
      "  warn(msg)\n",
      "c:\\Users\\hofong\\Desktop\\python\\Python working station\\.venv\\Lib\\site-packages\\openpyxl\\worksheet\\_reader.py:329: UserWarning: Conditional Formatting extension is not supported and will be removed\n",
      "  warn(msg)\n",
      "c:\\Users\\hofong\\Desktop\\python\\Python working station\\.venv\\Lib\\site-packages\\openpyxl\\worksheet\\_reader.py:329: UserWarning: Data Validation extension is not supported and will be removed\n",
      "  warn(msg)\n"
     ]
    },
    {
     "name": "stdout",
     "output_type": "stream",
     "text": [
      "Saved CSV file: C:\\Users\\hofong\\Desktop\\python\\Python working station\\Import files to DB\\CSV Converter\\Govt_subsidy ICT (revised on 20211124)_Doc-1-Summary.csv\n",
      "Saved CSV file: C:\\Users\\hofong\\Desktop\\python\\Python working station\\Import files to DB\\CSV Converter\\Govt_subsidy IOTLE (added non local exhibitor 20230309)_Doc-1-Summary.csv\n"
     ]
    },
    {
     "name": "stderr",
     "output_type": "stream",
     "text": [
      "c:\\Users\\hofong\\Desktop\\python\\Python working station\\.venv\\Lib\\site-packages\\openpyxl\\worksheet\\_reader.py:329: UserWarning: Data Validation extension is not supported and will be removed\n",
      "  warn(msg)\n"
     ]
    },
    {
     "name": "stdout",
     "output_type": "stream",
     "text": [
      "Saved CSV file: C:\\Users\\hofong\\Desktop\\python\\Python working station\\Import files to DB\\CSV Converter\\Govt_subsidy IOTLE (added non local exhibitor 20230309)_Doc-1-Non Local.csv\n"
     ]
    },
    {
     "name": "stderr",
     "output_type": "stream",
     "text": [
      "c:\\Users\\hofong\\Desktop\\python\\Python working station\\.venv\\Lib\\site-packages\\openpyxl\\worksheet\\_reader.py:329: UserWarning: Conditional Formatting extension is not supported and will be removed\n",
      "  warn(msg)\n",
      "c:\\Users\\hofong\\Desktop\\python\\Python working station\\.venv\\Lib\\site-packages\\openpyxl\\worksheet\\_reader.py:329: UserWarning: Data Validation extension is not supported and will be removed\n",
      "  warn(msg)\n",
      "c:\\Users\\hofong\\Desktop\\python\\Python working station\\.venv\\Lib\\site-packages\\openpyxl\\worksheet\\_reader.py:329: UserWarning: Data Validation extension is not supported and will be removed\n",
      "  warn(msg)\n"
     ]
    },
    {
     "name": "stdout",
     "output_type": "stream",
     "text": [
      "Saved CSV file: C:\\Users\\hofong\\Desktop\\python\\Python working station\\Import files to DB\\CSV Converter\\Govt_subsidy LifeStyle Soucring Show (added non local exhibitor 20230309)_Doc-1-Summary.csv\n",
      "Saved CSV file: C:\\Users\\hofong\\Desktop\\python\\Python working station\\Import files to DB\\CSV Converter\\Govt_subsidy LifeStyle Soucring Show (added non local exhibitor 20230309)_Doc-1-Non Local.csv\n",
      "Saved CSV file: C:\\Users\\hofong\\Desktop\\python\\Python working station\\Import files to DB\\CSV Converter\\Govt_subsidy MEDICAL (added non local exhibitor 20230309)_Doc-1-Summary.csv\n",
      "Saved CSV file: C:\\Users\\hofong\\Desktop\\python\\Python working station\\Import files to DB\\CSV Converter\\Govt_subsidy MEDICAL (added non local exhibitor 20230309)_Doc-1-Non Local.csv\n"
     ]
    },
    {
     "name": "stderr",
     "output_type": "stream",
     "text": [
      "c:\\Users\\hofong\\Desktop\\python\\Python working station\\.venv\\Lib\\site-packages\\openpyxl\\worksheet\\_reader.py:329: UserWarning: Conditional Formatting extension is not supported and will be removed\n",
      "  warn(msg)\n",
      "c:\\Users\\hofong\\Desktop\\python\\Python working station\\.venv\\Lib\\site-packages\\openpyxl\\worksheet\\_reader.py:329: UserWarning: Data Validation extension is not supported and will be removed\n",
      "  warn(msg)\n",
      "c:\\Users\\hofong\\Desktop\\python\\Python working station\\.venv\\Lib\\site-packages\\openpyxl\\worksheet\\_reader.py:329: UserWarning: Data Validation extension is not supported and will be removed\n",
      "  warn(msg)\n"
     ]
    },
    {
     "name": "stdout",
     "output_type": "stream",
     "text": [
      "Saved CSV file: C:\\Users\\hofong\\Desktop\\python\\Python working station\\Import files to DB\\CSV Converter\\Govt_subsidy_Education 2021 (added non local exhibitor 20230308)_Doc-1-Summary.csv\n",
      "Saved CSV file: C:\\Users\\hofong\\Desktop\\python\\Python working station\\Import files to DB\\CSV Converter\\Govt_subsidy_Education 2021 (added non local exhibitor 20230308)_Doc-1-Non Local.csv\n"
     ]
    },
    {
     "name": "stderr",
     "output_type": "stream",
     "text": [
      "c:\\Users\\hofong\\Desktop\\python\\Python working station\\.venv\\Lib\\site-packages\\openpyxl\\worksheet\\_reader.py:329: UserWarning: Conditional Formatting extension is not supported and will be removed\n",
      "  warn(msg)\n",
      "c:\\Users\\hofong\\Desktop\\python\\Python working station\\.venv\\Lib\\site-packages\\openpyxl\\worksheet\\_reader.py:329: UserWarning: Data Validation extension is not supported and will be removed\n",
      "  warn(msg)\n"
     ]
    },
    {
     "name": "stdout",
     "output_type": "stream",
     "text": [
      "Saved CSV file: C:\\Users\\hofong\\Desktop\\python\\Python working station\\Import files to DB\\CSV Converter\\Govt_subsidy_FOOD (added non local exhibitor 20230308)_Doc-1-Summary.csv\n"
     ]
    },
    {
     "name": "stderr",
     "output_type": "stream",
     "text": [
      "c:\\Users\\hofong\\Desktop\\python\\Python working station\\.venv\\Lib\\site-packages\\openpyxl\\worksheet\\_reader.py:329: UserWarning: Data Validation extension is not supported and will be removed\n",
      "  warn(msg)\n"
     ]
    },
    {
     "name": "stdout",
     "output_type": "stream",
     "text": [
      "Saved CSV file: C:\\Users\\hofong\\Desktop\\python\\Python working station\\Import files to DB\\CSV Converter\\Govt_subsidy_FOOD (added non local exhibitor 20230308)_Doc-1-Non Local.csv\n"
     ]
    },
    {
     "name": "stderr",
     "output_type": "stream",
     "text": [
      "c:\\Users\\hofong\\Desktop\\python\\Python working station\\.venv\\Lib\\site-packages\\openpyxl\\worksheet\\_reader.py:329: UserWarning: Conditional Formatting extension is not supported and will be removed\n",
      "  warn(msg)\n",
      "c:\\Users\\hofong\\Desktop\\python\\Python working station\\.venv\\Lib\\site-packages\\openpyxl\\worksheet\\_reader.py:329: UserWarning: Data Validation extension is not supported and will be removed\n",
      "  warn(msg)\n"
     ]
    },
    {
     "name": "stdout",
     "output_type": "stream",
     "text": [
      "Saved CSV file: C:\\Users\\hofong\\Desktop\\python\\Python working station\\Import files to DB\\CSV Converter\\Govt_subsidy_JEWELLERY (added non local exhibitor 20230308)_Doc-1-Summary.csv\n"
     ]
    },
    {
     "name": "stderr",
     "output_type": "stream",
     "text": [
      "c:\\Users\\hofong\\Desktop\\python\\Python working station\\.venv\\Lib\\site-packages\\openpyxl\\worksheet\\_reader.py:329: UserWarning: Data Validation extension is not supported and will be removed\n",
      "  warn(msg)\n"
     ]
    },
    {
     "name": "stdout",
     "output_type": "stream",
     "text": [
      "Saved CSV file: C:\\Users\\hofong\\Desktop\\python\\Python working station\\Import files to DB\\CSV Converter\\Govt_subsidy_JEWELLERY (added non local exhibitor 20230308)_Doc-1-Non Local.csv\n"
     ]
    },
    {
     "name": "stderr",
     "output_type": "stream",
     "text": [
      "c:\\Users\\hofong\\Desktop\\python\\Python working station\\.venv\\Lib\\site-packages\\openpyxl\\worksheet\\_reader.py:329: UserWarning: Conditional Formatting extension is not supported and will be removed\n",
      "  warn(msg)\n",
      "c:\\Users\\hofong\\Desktop\\python\\Python working station\\.venv\\Lib\\site-packages\\openpyxl\\worksheet\\_reader.py:329: UserWarning: Data Validation extension is not supported and will be removed\n",
      "  warn(msg)\n",
      "c:\\Users\\hofong\\Desktop\\python\\Python working station\\.venv\\Lib\\site-packages\\openpyxl\\worksheet\\_reader.py:329: UserWarning: Conditional Formatting extension is not supported and will be removed\n",
      "  warn(msg)\n",
      "c:\\Users\\hofong\\Desktop\\python\\Python working station\\.venv\\Lib\\site-packages\\openpyxl\\worksheet\\_reader.py:329: UserWarning: Data Validation extension is not supported and will be removed\n",
      "  warn(msg)\n"
     ]
    },
    {
     "name": "stdout",
     "output_type": "stream",
     "text": [
      "Saved CSV file: C:\\Users\\hofong\\Desktop\\python\\Python working station\\Import files to DB\\CSV Converter\\Govt_subsidy_LSF 2021 (form revised on 20211105)_Doc-1-Summary.csv\n",
      "Saved CSV file: C:\\Users\\hofong\\Desktop\\python\\Python working station\\Import files to DB\\CSV Converter\\Govt_subsidy_Optical 2021 (added non local exhibitor 20230308)_Doc-1-Summary.csv\n",
      "Saved CSV file: C:\\Users\\hofong\\Desktop\\python\\Python working station\\Import files to DB\\CSV Converter\\Govt_subsidy_Optical 2021 (added non local exhibitor 20230308)_Doc-1-Non Local.csv\n"
     ]
    },
    {
     "name": "stderr",
     "output_type": "stream",
     "text": [
      "c:\\Users\\hofong\\Desktop\\python\\Python working station\\.venv\\Lib\\site-packages\\openpyxl\\worksheet\\_reader.py:329: UserWarning: Conditional Formatting extension is not supported and will be removed\n",
      "  warn(msg)\n",
      "c:\\Users\\hofong\\Desktop\\python\\Python working station\\.venv\\Lib\\site-packages\\openpyxl\\worksheet\\_reader.py:329: UserWarning: Data Validation extension is not supported and will be removed\n",
      "  warn(msg)\n"
     ]
    },
    {
     "name": "stdout",
     "output_type": "stream",
     "text": [
      "Saved CSV file: C:\\Users\\hofong\\Desktop\\python\\Python working station\\Import files to DB\\CSV Converter\\Govt_subsidy_SNACKS (added non local exhibitor 20230308)_Doc-1-Summary.csv\n"
     ]
    },
    {
     "name": "stderr",
     "output_type": "stream",
     "text": [
      "c:\\Users\\hofong\\Desktop\\python\\Python working station\\.venv\\Lib\\site-packages\\openpyxl\\worksheet\\_reader.py:329: UserWarning: Data Validation extension is not supported and will be removed\n",
      "  warn(msg)\n"
     ]
    },
    {
     "name": "stdout",
     "output_type": "stream",
     "text": [
      "Saved CSV file: C:\\Users\\hofong\\Desktop\\python\\Python working station\\Import files to DB\\CSV Converter\\Govt_subsidy_SNACKS (added non local exhibitor 20230308)_Doc-1-Non Local.csv\n"
     ]
    },
    {
     "name": "stderr",
     "output_type": "stream",
     "text": [
      "c:\\Users\\hofong\\Desktop\\python\\Python working station\\.venv\\Lib\\site-packages\\openpyxl\\worksheet\\_reader.py:329: UserWarning: Conditional Formatting extension is not supported and will be removed\n",
      "  warn(msg)\n",
      "c:\\Users\\hofong\\Desktop\\python\\Python working station\\.venv\\Lib\\site-packages\\openpyxl\\worksheet\\_reader.py:329: UserWarning: Data Validation extension is not supported and will be removed\n",
      "  warn(msg)\n"
     ]
    },
    {
     "name": "stdout",
     "output_type": "stream",
     "text": [
      "Saved CSV file: C:\\Users\\hofong\\Desktop\\python\\Python working station\\Import files to DB\\CSV Converter\\2022 ALMAC - Govt_subsidy_w (revised on 20220715) 2023.01.13 (No abuse case)_Doc-1-Summary.csv\n"
     ]
    },
    {
     "name": "stderr",
     "output_type": "stream",
     "text": [
      "c:\\Users\\hofong\\Desktop\\python\\Python working station\\.venv\\Lib\\site-packages\\openpyxl\\worksheet\\_reader.py:329: UserWarning: Conditional Formatting extension is not supported and will be removed\n",
      "  warn(msg)\n",
      "c:\\Users\\hofong\\Desktop\\python\\Python working station\\.venv\\Lib\\site-packages\\openpyxl\\worksheet\\_reader.py:329: UserWarning: Data Validation extension is not supported and will be removed\n",
      "  warn(msg)\n"
     ]
    },
    {
     "name": "stdout",
     "output_type": "stream",
     "text": [
      "Saved CSV file: C:\\Users\\hofong\\Desktop\\python\\Python working station\\Import files to DB\\CSV Converter\\2022 Beauty & Wellness - Govt_subsidy_w_2022.08.29 (with BR address)_Doc-1-Summary.csv\n"
     ]
    },
    {
     "name": "stderr",
     "output_type": "stream",
     "text": [
      "c:\\Users\\hofong\\Desktop\\python\\Python working station\\.venv\\Lib\\site-packages\\openpyxl\\worksheet\\_reader.py:329: UserWarning: Conditional Formatting extension is not supported and will be removed\n",
      "  warn(msg)\n",
      "c:\\Users\\hofong\\Desktop\\python\\Python working station\\.venv\\Lib\\site-packages\\openpyxl\\worksheet\\_reader.py:329: UserWarning: Data Validation extension is not supported and will be removed\n",
      "  warn(msg)\n"
     ]
    },
    {
     "name": "stdout",
     "output_type": "stream",
     "text": [
      "Saved CSV file: C:\\Users\\hofong\\Desktop\\python\\Python working station\\Import files to DB\\CSV Converter\\2022 Book Govt_subsidy_w (added non local exhibitor 20230308)_Doc-1-Summary.csv\n"
     ]
    },
    {
     "name": "stderr",
     "output_type": "stream",
     "text": [
      "c:\\Users\\hofong\\Desktop\\python\\Python working station\\.venv\\Lib\\site-packages\\openpyxl\\worksheet\\_reader.py:329: UserWarning: Data Validation extension is not supported and will be removed\n",
      "  warn(msg)\n"
     ]
    },
    {
     "name": "stdout",
     "output_type": "stream",
     "text": [
      "Saved CSV file: C:\\Users\\hofong\\Desktop\\python\\Python working station\\Import files to DB\\CSV Converter\\2022 Book Govt_subsidy_w (added non local exhibitor 20230308)_Doc-1-Non Local.csv\n"
     ]
    },
    {
     "name": "stderr",
     "output_type": "stream",
     "text": [
      "c:\\Users\\hofong\\Desktop\\python\\Python working station\\.venv\\Lib\\site-packages\\openpyxl\\worksheet\\_reader.py:329: UserWarning: Conditional Formatting extension is not supported and will be removed\n",
      "  warn(msg)\n",
      "c:\\Users\\hofong\\Desktop\\python\\Python working station\\.venv\\Lib\\site-packages\\openpyxl\\worksheet\\_reader.py:329: UserWarning: Data Validation extension is not supported and will be removed\n",
      "  warn(msg)\n"
     ]
    },
    {
     "name": "stdout",
     "output_type": "stream",
     "text": [
      "Saved CSV file: C:\\Users\\hofong\\Desktop\\python\\Python working station\\Import files to DB\\CSV Converter\\2022 CENTRESTAGE - Govt_subsidy_w (added non local exhibitor 20230308)_Doc-1-Summary.csv\n"
     ]
    },
    {
     "name": "stderr",
     "output_type": "stream",
     "text": [
      "c:\\Users\\hofong\\Desktop\\python\\Python working station\\.venv\\Lib\\site-packages\\openpyxl\\worksheet\\_reader.py:329: UserWarning: Data Validation extension is not supported and will be removed\n",
      "  warn(msg)\n"
     ]
    },
    {
     "name": "stdout",
     "output_type": "stream",
     "text": [
      "Saved CSV file: C:\\Users\\hofong\\Desktop\\python\\Python working station\\Import files to DB\\CSV Converter\\2022 CENTRESTAGE - Govt_subsidy_w (added non local exhibitor 20230308)_Doc-1-Non Local.csv\n"
     ]
    },
    {
     "name": "stderr",
     "output_type": "stream",
     "text": [
      "c:\\Users\\hofong\\Desktop\\python\\Python working station\\.venv\\Lib\\site-packages\\openpyxl\\worksheet\\_reader.py:329: UserWarning: Conditional Formatting extension is not supported and will be removed\n",
      "  warn(msg)\n",
      "c:\\Users\\hofong\\Desktop\\python\\Python working station\\.venv\\Lib\\site-packages\\openpyxl\\worksheet\\_reader.py:329: UserWarning: Data Validation extension is not supported and will be removed\n",
      "  warn(msg)\n"
     ]
    },
    {
     "name": "stdout",
     "output_type": "stream",
     "text": [
      "Saved CSV file: C:\\Users\\hofong\\Desktop\\python\\Python working station\\Import files to DB\\CSV Converter\\2022 Diamond Govt_subsidy_w _added non local exhibitor 20230308 (with BR address)_Doc-1-Summary.csv\n"
     ]
    },
    {
     "name": "stderr",
     "output_type": "stream",
     "text": [
      "c:\\Users\\hofong\\Desktop\\python\\Python working station\\.venv\\Lib\\site-packages\\openpyxl\\worksheet\\_reader.py:329: UserWarning: Data Validation extension is not supported and will be removed\n",
      "  warn(msg)\n"
     ]
    },
    {
     "name": "stdout",
     "output_type": "stream",
     "text": [
      "Saved CSV file: C:\\Users\\hofong\\Desktop\\python\\Python working station\\Import files to DB\\CSV Converter\\2022 Diamond Govt_subsidy_w _added non local exhibitor 20230308 (with BR address)_Doc-1-Non Local.csv\n"
     ]
    },
    {
     "name": "stderr",
     "output_type": "stream",
     "text": [
      "c:\\Users\\hofong\\Desktop\\python\\Python working station\\.venv\\Lib\\site-packages\\openpyxl\\worksheet\\_reader.py:329: UserWarning: Conditional Formatting extension is not supported and will be removed\n",
      "  warn(msg)\n",
      "c:\\Users\\hofong\\Desktop\\python\\Python working station\\.venv\\Lib\\site-packages\\openpyxl\\worksheet\\_reader.py:329: UserWarning: Data Validation extension is not supported and will be removed\n",
      "  warn(msg)\n",
      "c:\\Users\\hofong\\Desktop\\python\\Python working station\\.venv\\Lib\\site-packages\\openpyxl\\worksheet\\_reader.py:329: UserWarning: Data Validation extension is not supported and will be removed\n",
      "  warn(msg)\n"
     ]
    },
    {
     "name": "stdout",
     "output_type": "stream",
     "text": [
      "Saved CSV file: C:\\Users\\hofong\\Desktop\\python\\Python working station\\Import files to DB\\CSV Converter\\2022 E Day - Govt_subsidy_w (added non local exhibitor 20230308)  (No abuse case)_Doc-1-Summary.csv\n",
      "Saved CSV file: C:\\Users\\hofong\\Desktop\\python\\Python working station\\Import files to DB\\CSV Converter\\2022 E Day - Govt_subsidy_w (added non local exhibitor 20230308)  (No abuse case)_Doc-1-Non Local.csv\n"
     ]
    },
    {
     "name": "stderr",
     "output_type": "stream",
     "text": [
      "c:\\Users\\hofong\\Desktop\\python\\Python working station\\.venv\\Lib\\site-packages\\openpyxl\\worksheet\\_reader.py:329: UserWarning: Conditional Formatting extension is not supported and will be removed\n",
      "  warn(msg)\n",
      "c:\\Users\\hofong\\Desktop\\python\\Python working station\\.venv\\Lib\\site-packages\\openpyxl\\worksheet\\_reader.py:329: UserWarning: Data Validation extension is not supported and will be removed\n",
      "  warn(msg)\n",
      "c:\\Users\\hofong\\Desktop\\python\\Python working station\\.venv\\Lib\\site-packages\\openpyxl\\worksheet\\_reader.py:329: UserWarning: Data Validation extension is not supported and will be removed\n",
      "  warn(msg)\n"
     ]
    },
    {
     "name": "stdout",
     "output_type": "stream",
     "text": [
      "Saved CSV file: C:\\Users\\hofong\\Desktop\\python\\Python working station\\Import files to DB\\CSV Converter\\2022 ECO - Govt_subsidy_w (2023.03.07)_Doc-1-HK Summary.csv\n",
      "Saved CSV file: C:\\Users\\hofong\\Desktop\\python\\Python working station\\Import files to DB\\CSV Converter\\2022 ECO - Govt_subsidy_w (2023.03.07)_Doc-1-Non Local.csv\n"
     ]
    },
    {
     "name": "stderr",
     "output_type": "stream",
     "text": [
      "c:\\Users\\hofong\\Desktop\\python\\Python working station\\.venv\\Lib\\site-packages\\openpyxl\\worksheet\\_reader.py:329: UserWarning: Conditional Formatting extension is not supported and will be removed\n",
      "  warn(msg)\n",
      "c:\\Users\\hofong\\Desktop\\python\\Python working station\\.venv\\Lib\\site-packages\\openpyxl\\worksheet\\_reader.py:329: UserWarning: Data Validation extension is not supported and will be removed\n",
      "  warn(msg)\n"
     ]
    },
    {
     "name": "stdout",
     "output_type": "stream",
     "text": [
      "Saved CSV file: C:\\Users\\hofong\\Desktop\\python\\Python working station\\Import files to DB\\CSV Converter\\2022 Education - Govt_subsidy_w (added non local exhibitor 20230306) checked and no abuse case_Doc-1-Summary.csv\n"
     ]
    },
    {
     "name": "stderr",
     "output_type": "stream",
     "text": [
      "c:\\Users\\hofong\\Desktop\\python\\Python working station\\.venv\\Lib\\site-packages\\openpyxl\\worksheet\\_reader.py:329: UserWarning: Data Validation extension is not supported and will be removed\n",
      "  warn(msg)\n"
     ]
    },
    {
     "name": "stdout",
     "output_type": "stream",
     "text": [
      "Saved CSV file: C:\\Users\\hofong\\Desktop\\python\\Python working station\\Import files to DB\\CSV Converter\\2022 Education - Govt_subsidy_w (added non local exhibitor 20230306) checked and no abuse case_Doc-1-Non Local.csv\n"
     ]
    },
    {
     "name": "stderr",
     "output_type": "stream",
     "text": [
      "c:\\Users\\hofong\\Desktop\\python\\Python working station\\.venv\\Lib\\site-packages\\openpyxl\\worksheet\\_reader.py:329: UserWarning: Conditional Formatting extension is not supported and will be removed\n",
      "  warn(msg)\n",
      "c:\\Users\\hofong\\Desktop\\python\\Python working station\\.venv\\Lib\\site-packages\\openpyxl\\worksheet\\_reader.py:329: UserWarning: Data Validation extension is not supported and will be removed\n",
      "  warn(msg)\n"
     ]
    },
    {
     "name": "stdout",
     "output_type": "stream",
     "text": [
      "Saved CSV file: C:\\Users\\hofong\\Desktop\\python\\Python working station\\Import files to DB\\CSV Converter\\2022 Food Govt_subsidy_w (added non local exhibitor)_Doc-1-Summary.csv\n"
     ]
    },
    {
     "name": "stderr",
     "output_type": "stream",
     "text": [
      "c:\\Users\\hofong\\Desktop\\python\\Python working station\\.venv\\Lib\\site-packages\\openpyxl\\worksheet\\_reader.py:329: UserWarning: Data Validation extension is not supported and will be removed\n",
      "  warn(msg)\n"
     ]
    },
    {
     "name": "stdout",
     "output_type": "stream",
     "text": [
      "Saved CSV file: C:\\Users\\hofong\\Desktop\\python\\Python working station\\Import files to DB\\CSV Converter\\2022 Food Govt_subsidy_w (added non local exhibitor)_Doc-1-Non Local.csv\n"
     ]
    },
    {
     "name": "stderr",
     "output_type": "stream",
     "text": [
      "c:\\Users\\hofong\\Desktop\\python\\Python working station\\.venv\\Lib\\site-packages\\openpyxl\\worksheet\\_reader.py:329: UserWarning: Conditional Formatting extension is not supported and will be removed\n",
      "  warn(msg)\n",
      "c:\\Users\\hofong\\Desktop\\python\\Python working station\\.venv\\Lib\\site-packages\\openpyxl\\worksheet\\_reader.py:329: UserWarning: Data Validation extension is not supported and will be removed\n",
      "  warn(msg)\n"
     ]
    },
    {
     "name": "stdout",
     "output_type": "stream",
     "text": [
      "Saved CSV file: C:\\Users\\hofong\\Desktop\\python\\Python working station\\Import files to DB\\CSV Converter\\2022 HKIJS Govt_subsidy_w (revised on 20220715) added non local exhibitor 20230308_Doc-1-Summary.csv\n"
     ]
    },
    {
     "name": "stderr",
     "output_type": "stream",
     "text": [
      "c:\\Users\\hofong\\Desktop\\python\\Python working station\\.venv\\Lib\\site-packages\\openpyxl\\worksheet\\_reader.py:329: UserWarning: Data Validation extension is not supported and will be removed\n",
      "  warn(msg)\n"
     ]
    },
    {
     "name": "stdout",
     "output_type": "stream",
     "text": [
      "Saved CSV file: C:\\Users\\hofong\\Desktop\\python\\Python working station\\Import files to DB\\CSV Converter\\2022 HKIJS Govt_subsidy_w (revised on 20220715) added non local exhibitor 20230308_Doc-1-Non Local.csv\n"
     ]
    },
    {
     "name": "stderr",
     "output_type": "stream",
     "text": [
      "c:\\Users\\hofong\\Desktop\\python\\Python working station\\.venv\\Lib\\site-packages\\openpyxl\\worksheet\\_reader.py:329: UserWarning: Conditional Formatting extension is not supported and will be removed\n",
      "  warn(msg)\n",
      "c:\\Users\\hofong\\Desktop\\python\\Python working station\\.venv\\Lib\\site-packages\\openpyxl\\worksheet\\_reader.py:329: UserWarning: Data Validation extension is not supported and will be removed\n",
      "  warn(msg)\n"
     ]
    },
    {
     "name": "stdout",
     "output_type": "stream",
     "text": [
      "Saved CSV file: C:\\Users\\hofong\\Desktop\\python\\Python working station\\Import files to DB\\CSV Converter\\2022 Home Delights - Govt_subsidy_w_2022.08.25 (with BR address)_Doc-1-Summary.csv\n"
     ]
    },
    {
     "name": "stderr",
     "output_type": "stream",
     "text": [
      "c:\\Users\\hofong\\Desktop\\python\\Python working station\\.venv\\Lib\\site-packages\\openpyxl\\worksheet\\_reader.py:329: UserWarning: Conditional Formatting extension is not supported and will be removed\n",
      "  warn(msg)\n",
      "c:\\Users\\hofong\\Desktop\\python\\Python working station\\.venv\\Lib\\site-packages\\openpyxl\\worksheet\\_reader.py:329: UserWarning: Data Validation extension is not supported and will be removed\n",
      "  warn(msg)\n",
      "c:\\Users\\hofong\\Desktop\\python\\Python working station\\.venv\\Lib\\site-packages\\openpyxl\\worksheet\\_reader.py:329: UserWarning: Data Validation extension is not supported and will be removed\n",
      "  warn(msg)\n"
     ]
    },
    {
     "name": "stdout",
     "output_type": "stream",
     "text": [
      "Saved CSV file: C:\\Users\\hofong\\Desktop\\python\\Python working station\\Import files to DB\\CSV Converter\\2022 Houseware Govt_subsidy_w (revised on 20220715)_2022.08.12 (all)_v3 (added non-local exhibitor 2023.02.20)_Doc-1-Summary.csv\n",
      "Saved CSV file: C:\\Users\\hofong\\Desktop\\python\\Python working station\\Import files to DB\\CSV Converter\\2022 Houseware Govt_subsidy_w (revised on 20220715)_2022.08.12 (all)_v3 (added non-local exhibitor 2023.02.20)_Doc-1-Non Local.csv\n"
     ]
    },
    {
     "name": "stderr",
     "output_type": "stream",
     "text": [
      "c:\\Users\\hofong\\Desktop\\python\\Python working station\\.venv\\Lib\\site-packages\\openpyxl\\worksheet\\_reader.py:329: UserWarning: Conditional Formatting extension is not supported and will be removed\n",
      "  warn(msg)\n",
      "c:\\Users\\hofong\\Desktop\\python\\Python working station\\.venv\\Lib\\site-packages\\openpyxl\\worksheet\\_reader.py:329: UserWarning: Data Validation extension is not supported and will be removed\n",
      "  warn(msg)\n",
      "c:\\Users\\hofong\\Desktop\\python\\Python working station\\.venv\\Lib\\site-packages\\openpyxl\\worksheet\\_reader.py:329: UserWarning: Data Validation extension is not supported and will be removed\n",
      "  warn(msg)\n"
     ]
    },
    {
     "name": "stdout",
     "output_type": "stream",
     "text": [
      "Saved CSV file: C:\\Users\\hofong\\Desktop\\python\\Python working station\\Import files to DB\\CSV Converter\\2022 IOTLE - Govt_subsidy_w (added non local exhibitor 20230308) No abuse cases_Doc-1-Summary.csv\n",
      "Saved CSV file: C:\\Users\\hofong\\Desktop\\python\\Python working station\\Import files to DB\\CSV Converter\\2022 IOTLE - Govt_subsidy_w (added non local exhibitor 20230308) No abuse cases_Doc-1-Non Local.csv\n"
     ]
    },
    {
     "name": "stderr",
     "output_type": "stream",
     "text": [
      "c:\\Users\\hofong\\Desktop\\python\\Python working station\\.venv\\Lib\\site-packages\\openpyxl\\worksheet\\_reader.py:329: UserWarning: Conditional Formatting extension is not supported and will be removed\n",
      "  warn(msg)\n",
      "c:\\Users\\hofong\\Desktop\\python\\Python working station\\.venv\\Lib\\site-packages\\openpyxl\\worksheet\\_reader.py:329: UserWarning: Data Validation extension is not supported and will be removed\n",
      "  warn(msg)\n",
      "c:\\Users\\hofong\\Desktop\\python\\Python working station\\.venv\\Lib\\site-packages\\openpyxl\\worksheet\\_reader.py:329: UserWarning: Data Validation extension is not supported and will be removed\n",
      "  warn(msg)\n"
     ]
    },
    {
     "name": "stdout",
     "output_type": "stream",
     "text": [
      "Saved CSV file: C:\\Users\\hofong\\Desktop\\python\\Python working station\\Import files to DB\\CSV Converter\\2022 Medical - Govt_subsidy_w (added non local exhibitor 20230308)_Doc-1-Summary.csv\n",
      "Saved CSV file: C:\\Users\\hofong\\Desktop\\python\\Python working station\\Import files to DB\\CSV Converter\\2022 Medical - Govt_subsidy_w (added non local exhibitor 20230308)_Doc-1-Non Local.csv\n"
     ]
    },
    {
     "name": "stderr",
     "output_type": "stream",
     "text": [
      "c:\\Users\\hofong\\Desktop\\python\\Python working station\\.venv\\Lib\\site-packages\\openpyxl\\worksheet\\_reader.py:329: UserWarning: Conditional Formatting extension is not supported and will be removed\n",
      "  warn(msg)\n",
      "c:\\Users\\hofong\\Desktop\\python\\Python working station\\.venv\\Lib\\site-packages\\openpyxl\\worksheet\\_reader.py:329: UserWarning: Data Validation extension is not supported and will be removed\n",
      "  warn(msg)\n"
     ]
    },
    {
     "name": "stdout",
     "output_type": "stream",
     "text": [
      "Saved CSV file: C:\\Users\\hofong\\Desktop\\python\\Python working station\\Import files to DB\\CSV Converter\\2022 Snacks -Govt_subsidy_w_2022.08.18_with BR address_Checked and no Abuse case_Doc-1-Summary.csv\n"
     ]
    },
    {
     "name": "stderr",
     "output_type": "stream",
     "text": [
      "c:\\Users\\hofong\\Desktop\\python\\Python working station\\.venv\\Lib\\site-packages\\openpyxl\\worksheet\\_reader.py:329: UserWarning: Conditional Formatting extension is not supported and will be removed\n",
      "  warn(msg)\n",
      "c:\\Users\\hofong\\Desktop\\python\\Python working station\\.venv\\Lib\\site-packages\\openpyxl\\worksheet\\_reader.py:329: UserWarning: Data Validation extension is not supported and will be removed\n",
      "  warn(msg)\n"
     ]
    },
    {
     "name": "stdout",
     "output_type": "stream",
     "text": [
      "Saved CSV file: C:\\Users\\hofong\\Desktop\\python\\Python working station\\Import files to DB\\CSV Converter\\2022 Sports & Leisure - Govt_subsidy_w_2022.08.25_with BR address (added non local exhibitor 2023308)_Doc-1-Summary.csv\n"
     ]
    },
    {
     "name": "stderr",
     "output_type": "stream",
     "text": [
      "c:\\Users\\hofong\\Desktop\\python\\Python working station\\.venv\\Lib\\site-packages\\openpyxl\\worksheet\\_reader.py:329: UserWarning: Data Validation extension is not supported and will be removed\n",
      "  warn(msg)\n"
     ]
    },
    {
     "name": "stdout",
     "output_type": "stream",
     "text": [
      "Saved CSV file: C:\\Users\\hofong\\Desktop\\python\\Python working station\\Import files to DB\\CSV Converter\\2022 Sports & Leisure - Govt_subsidy_w_2022.08.25_with BR address (added non local exhibitor 2023308)_Doc-1-Non Local.csv\n"
     ]
    },
    {
     "name": "stderr",
     "output_type": "stream",
     "text": [
      "c:\\Users\\hofong\\Desktop\\python\\Python working station\\.venv\\Lib\\site-packages\\openpyxl\\worksheet\\_reader.py:329: UserWarning: Conditional Formatting extension is not supported and will be removed\n",
      "  warn(msg)\n",
      "c:\\Users\\hofong\\Desktop\\python\\Python working station\\.venv\\Lib\\site-packages\\openpyxl\\worksheet\\_reader.py:329: UserWarning: Data Validation extension is not supported and will be removed\n",
      "  warn(msg)\n"
     ]
    },
    {
     "name": "stdout",
     "output_type": "stream",
     "text": [
      "Saved CSV file: C:\\Users\\hofong\\Desktop\\python\\Python working station\\Import files to DB\\CSV Converter\\2022 SSF - Govt_subsidy_w Final ver (revised on 20230120)_Doc-1-Summary.csv\n"
     ]
    },
    {
     "name": "stderr",
     "output_type": "stream",
     "text": [
      "c:\\Users\\hofong\\Desktop\\python\\Python working station\\.venv\\Lib\\site-packages\\openpyxl\\worksheet\\_reader.py:329: UserWarning: Conditional Formatting extension is not supported and will be removed\n",
      "  warn(msg)\n",
      "c:\\Users\\hofong\\Desktop\\python\\Python working station\\.venv\\Lib\\site-packages\\openpyxl\\worksheet\\_reader.py:329: UserWarning: Data Validation extension is not supported and will be removed\n",
      "  warn(msg)\n"
     ]
    },
    {
     "name": "stdout",
     "output_type": "stream",
     "text": [
      "Saved CSV file: C:\\Users\\hofong\\Desktop\\python\\Python working station\\Import files to DB\\CSV Converter\\Asia Summit on Global Health 2022 - Govt_subsidy_w (added non local exhibitor 20230308)Checked and no abuse case_Doc-1-Summary.csv\n"
     ]
    },
    {
     "name": "stderr",
     "output_type": "stream",
     "text": [
      "c:\\Users\\hofong\\Desktop\\python\\Python working station\\.venv\\Lib\\site-packages\\openpyxl\\worksheet\\_reader.py:329: UserWarning: Data Validation extension is not supported and will be removed\n",
      "  warn(msg)\n"
     ]
    },
    {
     "name": "stdout",
     "output_type": "stream",
     "text": [
      "Saved CSV file: C:\\Users\\hofong\\Desktop\\python\\Python working station\\Import files to DB\\CSV Converter\\Asia Summit on Global Health 2022 - Govt_subsidy_w (added non local exhibitor 20230308)Checked and no abuse case_Doc-1-Non Local.csv\n"
     ]
    },
    {
     "name": "stderr",
     "output_type": "stream",
     "text": [
      "c:\\Users\\hofong\\Desktop\\python\\Python working station\\.venv\\Lib\\site-packages\\openpyxl\\worksheet\\_reader.py:329: UserWarning: Conditional Formatting extension is not supported and will be removed\n",
      "  warn(msg)\n",
      "c:\\Users\\hofong\\Desktop\\python\\Python working station\\.venv\\Lib\\site-packages\\openpyxl\\worksheet\\_reader.py:329: UserWarning: Data Validation extension is not supported and will be removed\n",
      "  warn(msg)\n"
     ]
    },
    {
     "name": "stdout",
     "output_type": "stream",
     "text": [
      "Saved CSV file: C:\\Users\\hofong\\Desktop\\python\\Python working station\\Import files to DB\\CSV Converter\\Belt and Road Summit 2022 - Govt_subsidy_w _(added non local exhibitor)_checked and no abuse case_Doc-1-Summary.csv\n"
     ]
    },
    {
     "name": "stderr",
     "output_type": "stream",
     "text": [
      "c:\\Users\\hofong\\Desktop\\python\\Python working station\\.venv\\Lib\\site-packages\\openpyxl\\worksheet\\_reader.py:329: UserWarning: Data Validation extension is not supported and will be removed\n",
      "  warn(msg)\n",
      "c:\\Users\\hofong\\Desktop\\python\\Python working station\\.venv\\Lib\\site-packages\\openpyxl\\worksheet\\_reader.py:329: UserWarning: Conditional Formatting extension is not supported and will be removed\n",
      "  warn(msg)\n",
      "c:\\Users\\hofong\\Desktop\\python\\Python working station\\.venv\\Lib\\site-packages\\openpyxl\\worksheet\\_reader.py:329: UserWarning: Data Validation extension is not supported and will be removed\n",
      "  warn(msg)\n"
     ]
    },
    {
     "name": "stdout",
     "output_type": "stream",
     "text": [
      "Saved CSV file: C:\\Users\\hofong\\Desktop\\python\\Python working station\\Import files to DB\\CSV Converter\\Belt and Road Summit 2022 - Govt_subsidy_w _(added non local exhibitor)_checked and no abuse case_Doc-1-Non Local.csv\n",
      "Saved CSV file: C:\\Users\\hofong\\Desktop\\python\\Python working station\\Import files to DB\\CSV Converter\\Business of IP Asia Forum 2022 - Govt_subsidy_w_(added non local exhibitor 20230308)_checked and no abuse case_Doc-1-Summary.csv\n"
     ]
    },
    {
     "name": "stderr",
     "output_type": "stream",
     "text": [
      "c:\\Users\\hofong\\Desktop\\python\\Python working station\\.venv\\Lib\\site-packages\\openpyxl\\worksheet\\_reader.py:329: UserWarning: Data Validation extension is not supported and will be removed\n",
      "  warn(msg)\n"
     ]
    },
    {
     "name": "stdout",
     "output_type": "stream",
     "text": [
      "Saved CSV file: C:\\Users\\hofong\\Desktop\\python\\Python working station\\Import files to DB\\CSV Converter\\Business of IP Asia Forum 2022 - Govt_subsidy_w_(added non local exhibitor 20230308)_checked and no abuse case_Doc-1-Non Local.csv\n"
     ]
    },
    {
     "name": "stderr",
     "output_type": "stream",
     "text": [
      "c:\\Users\\hofong\\Desktop\\python\\Python working station\\.venv\\Lib\\site-packages\\openpyxl\\worksheet\\_reader.py:329: UserWarning: Conditional Formatting extension is not supported and will be removed\n",
      "  warn(msg)\n",
      "c:\\Users\\hofong\\Desktop\\python\\Python working station\\.venv\\Lib\\site-packages\\openpyxl\\worksheet\\_reader.py:329: UserWarning: Data Validation extension is not supported and will be removed\n",
      "  warn(msg)\n"
     ]
    },
    {
     "name": "stdout",
     "output_type": "stream",
     "text": [
      "Saved CSV file: C:\\Users\\hofong\\Desktop\\python\\Python working station\\Import files to DB\\CSV Converter\\electronAsia 2022 - Govt_subsidy_w_7.11.2022  (added non local exhibitor)_checked and no abuse case_Doc-1-Summary.csv\n"
     ]
    },
    {
     "name": "stderr",
     "output_type": "stream",
     "text": [
      "c:\\Users\\hofong\\Desktop\\python\\Python working station\\.venv\\Lib\\site-packages\\openpyxl\\worksheet\\_reader.py:329: UserWarning: Data Validation extension is not supported and will be removed\n",
      "  warn(msg)\n"
     ]
    },
    {
     "name": "stdout",
     "output_type": "stream",
     "text": [
      "Saved CSV file: C:\\Users\\hofong\\Desktop\\python\\Python working station\\Import files to DB\\CSV Converter\\electronAsia 2022 - Govt_subsidy_w_7.11.2022  (added non local exhibitor)_checked and no abuse case_Doc-1-Non Local.csv\n"
     ]
    },
    {
     "name": "stderr",
     "output_type": "stream",
     "text": [
      "c:\\Users\\hofong\\Desktop\\python\\Python working station\\.venv\\Lib\\site-packages\\openpyxl\\worksheet\\_reader.py:329: UserWarning: Conditional Formatting extension is not supported and will be removed\n",
      "  warn(msg)\n",
      "c:\\Users\\hofong\\Desktop\\python\\Python working station\\.venv\\Lib\\site-packages\\openpyxl\\worksheet\\_reader.py:329: UserWarning: Data Validation extension is not supported and will be removed\n",
      "  warn(msg)\n"
     ]
    },
    {
     "name": "stdout",
     "output_type": "stream",
     "text": [
      "Saved CSV file: C:\\Users\\hofong\\Desktop\\python\\Python working station\\Import files to DB\\CSV Converter\\HK Int'l Tea Fair 2022 - Govt_subsidy_w (added non local exhibitor 20230308)_Checked and no Abuse case_Doc-1-Summary.csv\n"
     ]
    },
    {
     "name": "stderr",
     "output_type": "stream",
     "text": [
      "c:\\Users\\hofong\\Desktop\\python\\Python working station\\.venv\\Lib\\site-packages\\openpyxl\\worksheet\\_reader.py:329: UserWarning: Data Validation extension is not supported and will be removed\n",
      "  warn(msg)\n"
     ]
    },
    {
     "name": "stdout",
     "output_type": "stream",
     "text": [
      "Saved CSV file: C:\\Users\\hofong\\Desktop\\python\\Python working station\\Import files to DB\\CSV Converter\\HK Int'l Tea Fair 2022 - Govt_subsidy_w (added non local exhibitor 20230308)_Checked and no Abuse case_Doc-1-Non Local.csv\n"
     ]
    },
    {
     "name": "stderr",
     "output_type": "stream",
     "text": [
      "c:\\Users\\hofong\\Desktop\\python\\Python working station\\.venv\\Lib\\site-packages\\openpyxl\\worksheet\\_reader.py:329: UserWarning: Conditional Formatting extension is not supported and will be removed\n",
      "  warn(msg)\n",
      "c:\\Users\\hofong\\Desktop\\python\\Python working station\\.venv\\Lib\\site-packages\\openpyxl\\worksheet\\_reader.py:329: UserWarning: Data Validation extension is not supported and will be removed\n",
      "  warn(msg)\n"
     ]
    },
    {
     "name": "stdout",
     "output_type": "stream",
     "text": [
      "Saved CSV file: C:\\Users\\hofong\\Desktop\\python\\Python working station\\Import files to DB\\CSV Converter\\HKTDC HK Electronics Fair (AE) 2022 - Govt_subsidy_w_(added non local exhibitor 20230308)_Doc-1-Summary.csv\n"
     ]
    },
    {
     "name": "stderr",
     "output_type": "stream",
     "text": [
      "c:\\Users\\hofong\\Desktop\\python\\Python working station\\.venv\\Lib\\site-packages\\openpyxl\\worksheet\\_reader.py:329: UserWarning: Data Validation extension is not supported and will be removed\n",
      "  warn(msg)\n"
     ]
    },
    {
     "name": "stdout",
     "output_type": "stream",
     "text": [
      "Saved CSV file: C:\\Users\\hofong\\Desktop\\python\\Python working station\\Import files to DB\\CSV Converter\\HKTDC HK Electronics Fair (AE) 2022 - Govt_subsidy_w_(added non local exhibitor 20230308)_Doc-1-Non Local.csv\n"
     ]
    },
    {
     "name": "stderr",
     "output_type": "stream",
     "text": [
      "c:\\Users\\hofong\\Desktop\\python\\Python working station\\.venv\\Lib\\site-packages\\openpyxl\\worksheet\\_reader.py:329: UserWarning: Conditional Formatting extension is not supported and will be removed\n",
      "  warn(msg)\n",
      "c:\\Users\\hofong\\Desktop\\python\\Python working station\\.venv\\Lib\\site-packages\\openpyxl\\worksheet\\_reader.py:329: UserWarning: Data Validation extension is not supported and will be removed\n",
      "  warn(msg)\n"
     ]
    },
    {
     "name": "stdout",
     "output_type": "stream",
     "text": [
      "Saved CSV file: C:\\Users\\hofong\\Desktop\\python\\Python working station\\Import files to DB\\CSV Converter\\HKTDC Hong Kong International Lighting Fair (AE) 2022 - Govt_subsidy_w (added non local exhibitor 20230308)_Doc-1-Summary.csv\n"
     ]
    },
    {
     "name": "stderr",
     "output_type": "stream",
     "text": [
      "c:\\Users\\hofong\\Desktop\\python\\Python working station\\.venv\\Lib\\site-packages\\openpyxl\\worksheet\\_reader.py:329: UserWarning: Data Validation extension is not supported and will be removed\n",
      "  warn(msg)\n"
     ]
    },
    {
     "name": "stdout",
     "output_type": "stream",
     "text": [
      "Saved CSV file: C:\\Users\\hofong\\Desktop\\python\\Python working station\\Import files to DB\\CSV Converter\\HKTDC Hong Kong International Lighting Fair (AE) 2022 - Govt_subsidy_w (added non local exhibitor 20230308)_Doc-1-Non Local.csv\n"
     ]
    },
    {
     "name": "stderr",
     "output_type": "stream",
     "text": [
      "c:\\Users\\hofong\\Desktop\\python\\Python working station\\.venv\\Lib\\site-packages\\openpyxl\\worksheet\\_reader.py:329: UserWarning: Conditional Formatting extension is not supported and will be removed\n",
      "  warn(msg)\n",
      "c:\\Users\\hofong\\Desktop\\python\\Python working station\\.venv\\Lib\\site-packages\\openpyxl\\worksheet\\_reader.py:329: UserWarning: Data Validation extension is not supported and will be removed\n",
      "  warn(msg)\n"
     ]
    },
    {
     "name": "stdout",
     "output_type": "stream",
     "text": [
      "Saved CSV file: C:\\Users\\hofong\\Desktop\\python\\Python working station\\Import files to DB\\CSV Converter\\HKTDC International ICT Expo 2022 - Govt_subsidy_w (revised on 20230207) v2_Doc-1-Summary.csv\n"
     ]
    },
    {
     "name": "stderr",
     "output_type": "stream",
     "text": [
      "c:\\Users\\hofong\\Desktop\\python\\Python working station\\.venv\\Lib\\site-packages\\openpyxl\\worksheet\\_reader.py:329: UserWarning: Conditional Formatting extension is not supported and will be removed\n",
      "  warn(msg)\n",
      "c:\\Users\\hofong\\Desktop\\python\\Python working station\\.venv\\Lib\\site-packages\\openpyxl\\worksheet\\_reader.py:329: UserWarning: Data Validation extension is not supported and will be removed\n",
      "  warn(msg)\n"
     ]
    },
    {
     "name": "stdout",
     "output_type": "stream",
     "text": [
      "Saved CSV file: C:\\Users\\hofong\\Desktop\\python\\Python working station\\Import files to DB\\CSV Converter\\HKTDC Watch and Clock 2022- Govt_subsidy_w Final Ver (added non local exhibitor 20230308)_Doc-1-Summary.csv\n"
     ]
    },
    {
     "name": "stderr",
     "output_type": "stream",
     "text": [
      "c:\\Users\\hofong\\Desktop\\python\\Python working station\\.venv\\Lib\\site-packages\\openpyxl\\worksheet\\_reader.py:329: UserWarning: Data Validation extension is not supported and will be removed\n",
      "  warn(msg)\n"
     ]
    },
    {
     "name": "stdout",
     "output_type": "stream",
     "text": [
      "Saved CSV file: C:\\Users\\hofong\\Desktop\\python\\Python working station\\Import files to DB\\CSV Converter\\HKTDC Watch and Clock 2022- Govt_subsidy_w Final Ver (added non local exhibitor 20230308)_Doc-1-Non Local.csv\n"
     ]
    },
    {
     "name": "stderr",
     "output_type": "stream",
     "text": [
      "c:\\Users\\hofong\\Desktop\\python\\Python working station\\.venv\\Lib\\site-packages\\openpyxl\\worksheet\\_reader.py:329: UserWarning: Conditional Formatting extension is not supported and will be removed\n",
      "  warn(msg)\n",
      "c:\\Users\\hofong\\Desktop\\python\\Python working station\\.venv\\Lib\\site-packages\\openpyxl\\worksheet\\_reader.py:329: UserWarning: Data Validation extension is not supported and will be removed\n",
      "  warn(msg)\n"
     ]
    },
    {
     "name": "stdout",
     "output_type": "stream",
     "text": [
      "Saved CSV file: C:\\Users\\hofong\\Desktop\\python\\Python working station\\Import files to DB\\CSV Converter\\(All) HKTDC HK Gifts & Premium 2023 - Govt_subsidy_w (revised on 20230315)_2 June 2023 (with address)_18 July 2023 new_Doc-1-Summary.csv\n",
      "Saved CSV file: C:\\Users\\hofong\\Desktop\\python\\Python working station\\Import files to DB\\CSV Converter\\(All) HKTDC HK Gifts & Premium 2023 - Govt_subsidy_w (revised on 20230315)_2 June 2023 (with address)_18 July 2023 new_Non-local.csv\n"
     ]
    },
    {
     "name": "stderr",
     "output_type": "stream",
     "text": [
      "c:\\Users\\hofong\\Desktop\\python\\Python working station\\.venv\\Lib\\site-packages\\openpyxl\\worksheet\\_reader.py:329: UserWarning: Conditional Formatting extension is not supported and will be removed\n",
      "  warn(msg)\n",
      "c:\\Users\\hofong\\Desktop\\python\\Python working station\\.venv\\Lib\\site-packages\\openpyxl\\worksheet\\_reader.py:329: UserWarning: Data Validation extension is not supported and will be removed\n",
      "  warn(msg)\n",
      "c:\\Users\\hofong\\Desktop\\python\\Python working station\\.venv\\Lib\\site-packages\\openpyxl\\worksheet\\_reader.py:329: UserWarning: Conditional Formatting extension is not supported and will be removed\n",
      "  warn(msg)\n",
      "c:\\Users\\hofong\\Desktop\\python\\Python working station\\.venv\\Lib\\site-packages\\openpyxl\\worksheet\\_reader.py:329: UserWarning: Data Validation extension is not supported and will be removed\n",
      "  warn(msg)\n"
     ]
    },
    {
     "name": "stdout",
     "output_type": "stream",
     "text": [
      "Saved CSV file: C:\\Users\\hofong\\Desktop\\python\\Python working station\\Import files to DB\\CSV Converter\\2023 AFF - Govt_subsidy_w (4 line address - revised on 20230308) 2023.03.13_Doc-1-Summary.csv\n",
      "Saved CSV file: C:\\Users\\hofong\\Desktop\\python\\Python working station\\Import files to DB\\CSV Converter\\2023 AFF - Govt_subsidy_w (4 line address - revised on 20230308) 2023.03.13_Doc-1-Non Local.csv\n"
     ]
    },
    {
     "name": "stderr",
     "output_type": "stream",
     "text": [
      "c:\\Users\\hofong\\Desktop\\python\\Python working station\\.venv\\Lib\\site-packages\\openpyxl\\worksheet\\_reader.py:329: UserWarning: Conditional Formatting extension is not supported and will be removed\n",
      "  warn(msg)\n",
      "c:\\Users\\hofong\\Desktop\\python\\Python working station\\.venv\\Lib\\site-packages\\openpyxl\\worksheet\\_reader.py:329: UserWarning: Data Validation extension is not supported and will be removed\n",
      "  warn(msg)\n"
     ]
    },
    {
     "name": "stdout",
     "output_type": "stream",
     "text": [
      "Saved CSV file: C:\\Users\\hofong\\Desktop\\python\\Python working station\\Import files to DB\\CSV Converter\\2023 ALMAC Govt_subsidy_w (4 line address) by order no, BR expiry (2024.01.08)_Doc-1-Summary.csv\n"
     ]
    },
    {
     "name": "stderr",
     "output_type": "stream",
     "text": [
      "c:\\Users\\hofong\\Desktop\\python\\Python working station\\.venv\\Lib\\site-packages\\openpyxl\\worksheet\\_reader.py:329: UserWarning: Conditional Formatting extension is not supported and will be removed\n",
      "  warn(msg)\n",
      "c:\\Users\\hofong\\Desktop\\python\\Python working station\\.venv\\Lib\\site-packages\\openpyxl\\worksheet\\_reader.py:329: UserWarning: Data Validation extension is not supported and will be removed\n",
      "  warn(msg)\n"
     ]
    },
    {
     "name": "stdout",
     "output_type": "stream",
     "text": [
      "Saved CSV file: C:\\Users\\hofong\\Desktop\\python\\Python working station\\Import files to DB\\CSV Converter\\2023 ALMAC Govt_subsidy_w (4 line address) by order no, BR expiry (2024.01.08)_Doc-1-Non Local.csv\n"
     ]
    },
    {
     "name": "stderr",
     "output_type": "stream",
     "text": [
      "c:\\Users\\hofong\\Desktop\\python\\Python working station\\.venv\\Lib\\site-packages\\openpyxl\\worksheet\\_reader.py:329: UserWarning: Conditional Formatting extension is not supported and will be removed\n",
      "  warn(msg)\n",
      "c:\\Users\\hofong\\Desktop\\python\\Python working station\\.venv\\Lib\\site-packages\\openpyxl\\worksheet\\_reader.py:329: UserWarning: Data Validation extension is not supported and will be removed\n",
      "  warn(msg)\n",
      "c:\\Users\\hofong\\Desktop\\python\\Python working station\\.venv\\Lib\\site-packages\\openpyxl\\worksheet\\_reader.py:329: UserWarning: Conditional Formatting extension is not supported and will be removed\n",
      "  warn(msg)\n",
      "c:\\Users\\hofong\\Desktop\\python\\Python working station\\.venv\\Lib\\site-packages\\openpyxl\\worksheet\\_reader.py:329: UserWarning: Data Validation extension is not supported and will be removed\n",
      "  warn(msg)\n"
     ]
    },
    {
     "name": "stdout",
     "output_type": "stream",
     "text": [
      "Saved CSV file: C:\\Users\\hofong\\Desktop\\python\\Python working station\\Import files to DB\\CSV Converter\\2023 ASGH - Govt_subsidy_w (4 line address) 2023.07.25_Doc-1-Summary.csv\n",
      "Saved CSV file: C:\\Users\\hofong\\Desktop\\python\\Python working station\\Import files to DB\\CSV Converter\\2023 ASGH - Govt_subsidy_w (4 line address) 2023.07.25_Doc-1-Non Local.csv\n"
     ]
    },
    {
     "name": "stderr",
     "output_type": "stream",
     "text": [
      "c:\\Users\\hofong\\Desktop\\python\\Python working station\\.venv\\Lib\\site-packages\\openpyxl\\worksheet\\_reader.py:329: UserWarning: Conditional Formatting extension is not supported and will be removed\n",
      "  warn(msg)\n",
      "c:\\Users\\hofong\\Desktop\\python\\Python working station\\.venv\\Lib\\site-packages\\openpyxl\\worksheet\\_reader.py:329: UserWarning: Data Validation extension is not supported and will be removed\n",
      "  warn(msg)\n",
      "c:\\Users\\hofong\\Desktop\\python\\Python working station\\.venv\\Lib\\site-packages\\openpyxl\\worksheet\\_reader.py:329: UserWarning: Conditional Formatting extension is not supported and will be removed\n",
      "  warn(msg)\n",
      "c:\\Users\\hofong\\Desktop\\python\\Python working station\\.venv\\Lib\\site-packages\\openpyxl\\worksheet\\_reader.py:329: UserWarning: Data Validation extension is not supported and will be removed\n",
      "  warn(msg)\n"
     ]
    },
    {
     "name": "stdout",
     "output_type": "stream",
     "text": [
      "Saved CSV file: C:\\Users\\hofong\\Desktop\\python\\Python working station\\Import files to DB\\CSV Converter\\2023 Beauty _4106 Govt_subsidy_w (4 line address) by order no, BR expiry (revised 2023.10.12)_Doc-1-Summary.csv\n",
      "Saved CSV file: C:\\Users\\hofong\\Desktop\\python\\Python working station\\Import files to DB\\CSV Converter\\2023 Beauty _4106 Govt_subsidy_w (4 line address) by order no, BR expiry (revised 2023.10.12)_Doc-1-Non Local.csv\n"
     ]
    },
    {
     "name": "stderr",
     "output_type": "stream",
     "text": [
      "c:\\Users\\hofong\\Desktop\\python\\Python working station\\.venv\\Lib\\site-packages\\openpyxl\\worksheet\\_reader.py:329: UserWarning: Conditional Formatting extension is not supported and will be removed\n",
      "  warn(msg)\n",
      "c:\\Users\\hofong\\Desktop\\python\\Python working station\\.venv\\Lib\\site-packages\\openpyxl\\worksheet\\_reader.py:329: UserWarning: Data Validation extension is not supported and will be removed\n",
      "  warn(msg)\n",
      "c:\\Users\\hofong\\Desktop\\python\\Python working station\\.venv\\Lib\\site-packages\\openpyxl\\worksheet\\_reader.py:329: UserWarning: Conditional Formatting extension is not supported and will be removed\n",
      "  warn(msg)\n",
      "c:\\Users\\hofong\\Desktop\\python\\Python working station\\.venv\\Lib\\site-packages\\openpyxl\\worksheet\\_reader.py:329: UserWarning: Data Validation extension is not supported and will be removed\n",
      "  warn(msg)\n"
     ]
    },
    {
     "name": "stdout",
     "output_type": "stream",
     "text": [
      "Saved CSV file: C:\\Users\\hofong\\Desktop\\python\\Python working station\\Import files to DB\\CSV Converter\\2023 BIP Govt_subsidy_w (4 line address) by order no, BR expiry (2024.01.08)_Doc-1-Summary.csv\n",
      "Saved CSV file: C:\\Users\\hofong\\Desktop\\python\\Python working station\\Import files to DB\\CSV Converter\\2023 BIP Govt_subsidy_w (4 line address) by order no, BR expiry (2024.01.08)_Doc-1-Non Local.csv\n"
     ]
    },
    {
     "name": "stderr",
     "output_type": "stream",
     "text": [
      "c:\\Users\\hofong\\Desktop\\python\\Python working station\\.venv\\Lib\\site-packages\\openpyxl\\worksheet\\_reader.py:329: UserWarning: Conditional Formatting extension is not supported and will be removed\n",
      "  warn(msg)\n",
      "c:\\Users\\hofong\\Desktop\\python\\Python working station\\.venv\\Lib\\site-packages\\openpyxl\\worksheet\\_reader.py:329: UserWarning: Data Validation extension is not supported and will be removed\n",
      "  warn(msg)\n"
     ]
    },
    {
     "name": "stdout",
     "output_type": "stream",
     "text": [
      "Saved CSV file: C:\\Users\\hofong\\Desktop\\python\\Python working station\\Import files to DB\\CSV Converter\\2023 Book Govt_subsidy_w (4 line address) by order no, BR expiry (2023.10.12)_Doc-1-Summary.csv\n"
     ]
    },
    {
     "name": "stderr",
     "output_type": "stream",
     "text": [
      "c:\\Users\\hofong\\Desktop\\python\\Python working station\\.venv\\Lib\\site-packages\\openpyxl\\worksheet\\_reader.py:329: UserWarning: Conditional Formatting extension is not supported and will be removed\n",
      "  warn(msg)\n",
      "c:\\Users\\hofong\\Desktop\\python\\Python working station\\.venv\\Lib\\site-packages\\openpyxl\\worksheet\\_reader.py:329: UserWarning: Data Validation extension is not supported and will be removed\n",
      "  warn(msg)\n"
     ]
    },
    {
     "name": "stdout",
     "output_type": "stream",
     "text": [
      "Saved CSV file: C:\\Users\\hofong\\Desktop\\python\\Python working station\\Import files to DB\\CSV Converter\\2023 Book Govt_subsidy_w (4 line address) by order no, BR expiry (2023.10.12)_Doc-1-Non Local.csv\n"
     ]
    },
    {
     "name": "stderr",
     "output_type": "stream",
     "text": [
      "c:\\Users\\hofong\\Desktop\\python\\Python working station\\.venv\\Lib\\site-packages\\openpyxl\\worksheet\\_reader.py:329: UserWarning: Conditional Formatting extension is not supported and will be removed\n",
      "  warn(msg)\n",
      "c:\\Users\\hofong\\Desktop\\python\\Python working station\\.venv\\Lib\\site-packages\\openpyxl\\worksheet\\_reader.py:329: UserWarning: Data Validation extension is not supported and will be removed\n",
      "  warn(msg)\n",
      "c:\\Users\\hofong\\Desktop\\python\\Python working station\\.venv\\Lib\\site-packages\\openpyxl\\worksheet\\_reader.py:329: UserWarning: Conditional Formatting extension is not supported and will be removed\n",
      "  warn(msg)\n",
      "c:\\Users\\hofong\\Desktop\\python\\Python working station\\.venv\\Lib\\site-packages\\openpyxl\\worksheet\\_reader.py:329: UserWarning: Data Validation extension is not supported and will be removed\n",
      "  warn(msg)\n"
     ]
    },
    {
     "name": "stdout",
     "output_type": "stream",
     "text": [
      "Saved CSV file: C:\\Users\\hofong\\Desktop\\python\\Python working station\\Import files to DB\\CSV Converter\\2023 CENTRESTAGE Govt_subsidy_w (4 line address) by order no, BR expiry (revised 2023.10.25)_Doc-1-Summary.csv\n",
      "Saved CSV file: C:\\Users\\hofong\\Desktop\\python\\Python working station\\Import files to DB\\CSV Converter\\2023 CENTRESTAGE Govt_subsidy_w (4 line address) by order no, BR expiry (revised 2023.10.25)_Doc-1-Non Local.csv\n"
     ]
    },
    {
     "name": "stderr",
     "output_type": "stream",
     "text": [
      "c:\\Users\\hofong\\Desktop\\python\\Python working station\\.venv\\Lib\\site-packages\\openpyxl\\worksheet\\_reader.py:329: UserWarning: Conditional Formatting extension is not supported and will be removed\n",
      "  warn(msg)\n",
      "c:\\Users\\hofong\\Desktop\\python\\Python working station\\.venv\\Lib\\site-packages\\openpyxl\\worksheet\\_reader.py:329: UserWarning: Data Validation extension is not supported and will be removed\n",
      "  warn(msg)\n",
      "c:\\Users\\hofong\\Desktop\\python\\Python working station\\.venv\\Lib\\site-packages\\openpyxl\\worksheet\\_reader.py:329: UserWarning: Conditional Formatting extension is not supported and will be removed\n",
      "  warn(msg)\n",
      "c:\\Users\\hofong\\Desktop\\python\\Python working station\\.venv\\Lib\\site-packages\\openpyxl\\worksheet\\_reader.py:329: UserWarning: Data Validation extension is not supported and will be removed\n",
      "  warn(msg)\n"
     ]
    },
    {
     "name": "stdout",
     "output_type": "stream",
     "text": [
      "Saved CSV file: C:\\Users\\hofong\\Desktop\\python\\Python working station\\Import files to DB\\CSV Converter\\2023 Chill 11 Govt_subsidy_w (4 line address) by order no, BR expiry (2024.02.02)_Doc-1-Summary.csv\n",
      "Saved CSV file: C:\\Users\\hofong\\Desktop\\python\\Python working station\\Import files to DB\\CSV Converter\\2023 Chill 11 Govt_subsidy_w (4 line address) by order no, BR expiry (2024.02.02)_Doc-1-Non Local.csv\n"
     ]
    },
    {
     "name": "stderr",
     "output_type": "stream",
     "text": [
      "c:\\Users\\hofong\\Desktop\\python\\Python working station\\.venv\\Lib\\site-packages\\openpyxl\\worksheet\\_reader.py:329: UserWarning: Conditional Formatting extension is not supported and will be removed\n",
      "  warn(msg)\n",
      "c:\\Users\\hofong\\Desktop\\python\\Python working station\\.venv\\Lib\\site-packages\\openpyxl\\worksheet\\_reader.py:329: UserWarning: Data Validation extension is not supported and will be removed\n",
      "  warn(msg)\n"
     ]
    },
    {
     "name": "stdout",
     "output_type": "stream",
     "text": [
      "Saved CSV file: C:\\Users\\hofong\\Desktop\\python\\Python working station\\Import files to DB\\CSV Converter\\2023 eA Govt_subsidy_w (4 line address) by order no, BR expiry (2023.12.08)_Doc-1-Summary.csv\n"
     ]
    },
    {
     "name": "stderr",
     "output_type": "stream",
     "text": [
      "c:\\Users\\hofong\\Desktop\\python\\Python working station\\.venv\\Lib\\site-packages\\openpyxl\\worksheet\\_reader.py:329: UserWarning: Conditional Formatting extension is not supported and will be removed\n",
      "  warn(msg)\n",
      "c:\\Users\\hofong\\Desktop\\python\\Python working station\\.venv\\Lib\\site-packages\\openpyxl\\worksheet\\_reader.py:329: UserWarning: Data Validation extension is not supported and will be removed\n",
      "  warn(msg)\n"
     ]
    },
    {
     "name": "stdout",
     "output_type": "stream",
     "text": [
      "Saved CSV file: C:\\Users\\hofong\\Desktop\\python\\Python working station\\Import files to DB\\CSV Converter\\2023 eA Govt_subsidy_w (4 line address) by order no, BR expiry (2023.12.08)_Doc-1-Non Local.csv\n"
     ]
    },
    {
     "name": "stderr",
     "output_type": "stream",
     "text": [
      "c:\\Users\\hofong\\Desktop\\python\\Python working station\\.venv\\Lib\\site-packages\\openpyxl\\worksheet\\_reader.py:329: UserWarning: Conditional Formatting extension is not supported and will be removed\n",
      "  warn(msg)\n",
      "c:\\Users\\hofong\\Desktop\\python\\Python working station\\.venv\\Lib\\site-packages\\openpyxl\\worksheet\\_reader.py:329: UserWarning: Data Validation extension is not supported and will be removed\n",
      "  warn(msg)\n",
      "c:\\Users\\hofong\\Desktop\\python\\Python working station\\.venv\\Lib\\site-packages\\openpyxl\\worksheet\\_reader.py:329: UserWarning: Conditional Formatting extension is not supported and will be removed\n",
      "  warn(msg)\n",
      "c:\\Users\\hofong\\Desktop\\python\\Python working station\\.venv\\Lib\\site-packages\\openpyxl\\worksheet\\_reader.py:329: UserWarning: Data Validation extension is not supported and will be removed\n",
      "  warn(msg)\n"
     ]
    },
    {
     "name": "stdout",
     "output_type": "stream",
     "text": [
      "Saved CSV file: C:\\Users\\hofong\\Desktop\\python\\Python working station\\Import files to DB\\CSV Converter\\2023 Education Govt_subsidy (27.3.2023)_Doc-1-Summary.csv\n",
      "Saved CSV file: C:\\Users\\hofong\\Desktop\\python\\Python working station\\Import files to DB\\CSV Converter\\2023 Education Govt_subsidy (27.3.2023)_Doc-1-Non Local.csv\n"
     ]
    },
    {
     "name": "stderr",
     "output_type": "stream",
     "text": [
      "c:\\Users\\hofong\\Desktop\\python\\Python working station\\.venv\\Lib\\site-packages\\openpyxl\\worksheet\\_reader.py:329: UserWarning: Conditional Formatting extension is not supported and will be removed\n",
      "  warn(msg)\n",
      "c:\\Users\\hofong\\Desktop\\python\\Python working station\\.venv\\Lib\\site-packages\\openpyxl\\worksheet\\_reader.py:329: UserWarning: Data Validation extension is not supported and will be removed\n",
      "  warn(msg)\n",
      "c:\\Users\\hofong\\Desktop\\python\\Python working station\\.venv\\Lib\\site-packages\\openpyxl\\worksheet\\_reader.py:329: UserWarning: Conditional Formatting extension is not supported and will be removed\n",
      "  warn(msg)\n",
      "c:\\Users\\hofong\\Desktop\\python\\Python working station\\.venv\\Lib\\site-packages\\openpyxl\\worksheet\\_reader.py:329: UserWarning: Data Validation extension is not supported and will be removed\n",
      "  warn(msg)\n"
     ]
    },
    {
     "name": "stdout",
     "output_type": "stream",
     "text": [
      "Saved CSV file: C:\\Users\\hofong\\Desktop\\python\\Python working station\\Import files to DB\\CSV Converter\\2023 HDE Govt_subsidy_w (4 line address) by order no, BR expiry (2023.10.12)_Doc-1-Summary.csv\n",
      "Saved CSV file: C:\\Users\\hofong\\Desktop\\python\\Python working station\\Import files to DB\\CSV Converter\\2023 HDE Govt_subsidy_w (4 line address) by order no, BR expiry (2023.10.12)_Doc-1-Non Local.csv\n"
     ]
    },
    {
     "name": "stderr",
     "output_type": "stream",
     "text": [
      "c:\\Users\\hofong\\Desktop\\python\\Python working station\\.venv\\Lib\\site-packages\\openpyxl\\worksheet\\_reader.py:329: UserWarning: Conditional Formatting extension is not supported and will be removed\n",
      "  warn(msg)\n",
      "c:\\Users\\hofong\\Desktop\\python\\Python working station\\.venv\\Lib\\site-packages\\openpyxl\\worksheet\\_reader.py:329: UserWarning: Data Validation extension is not supported and will be removed\n",
      "  warn(msg)\n"
     ]
    },
    {
     "name": "stdout",
     "output_type": "stream",
     "text": [
      "Saved CSV file: C:\\Users\\hofong\\Desktop\\python\\Python working station\\Import files to DB\\CSV Converter\\2023 HKEF(SE) - Govt_subsidy_w (4 line address) by order no, BR expiry (2023.09.18)_Doc-1-Summary.csv\n"
     ]
    },
    {
     "name": "stderr",
     "output_type": "stream",
     "text": [
      "c:\\Users\\hofong\\Desktop\\python\\Python working station\\.venv\\Lib\\site-packages\\openpyxl\\worksheet\\_reader.py:329: UserWarning: Conditional Formatting extension is not supported and will be removed\n",
      "  warn(msg)\n",
      "c:\\Users\\hofong\\Desktop\\python\\Python working station\\.venv\\Lib\\site-packages\\openpyxl\\worksheet\\_reader.py:329: UserWarning: Data Validation extension is not supported and will be removed\n",
      "  warn(msg)\n"
     ]
    },
    {
     "name": "stdout",
     "output_type": "stream",
     "text": [
      "Saved CSV file: C:\\Users\\hofong\\Desktop\\python\\Python working station\\Import files to DB\\CSV Converter\\2023 HKEF(SE) - Govt_subsidy_w (4 line address) by order no, BR expiry (2023.09.18)_Doc-1-Non Local.csv\n"
     ]
    },
    {
     "name": "stderr",
     "output_type": "stream",
     "text": [
      "c:\\Users\\hofong\\Desktop\\python\\Python working station\\.venv\\Lib\\site-packages\\openpyxl\\worksheet\\_reader.py:329: UserWarning: Conditional Formatting extension is not supported and will be removed\n",
      "  warn(msg)\n",
      "c:\\Users\\hofong\\Desktop\\python\\Python working station\\.venv\\Lib\\site-packages\\openpyxl\\worksheet\\_reader.py:329: UserWarning: Data Validation extension is not supported and will be removed\n",
      "  warn(msg)\n"
     ]
    },
    {
     "name": "stdout",
     "output_type": "stream",
     "text": [
      "Saved CSV file: C:\\Users\\hofong\\Desktop\\python\\Python working station\\Import files to DB\\CSV Converter\\2023 HKIJS - Govt_subsidy_w (4 line address - revised on 20230308) by order no._Doc-1-Summary.csv\n"
     ]
    },
    {
     "name": "stderr",
     "output_type": "stream",
     "text": [
      "c:\\Users\\hofong\\Desktop\\python\\Python working station\\.venv\\Lib\\site-packages\\openpyxl\\worksheet\\_reader.py:329: UserWarning: Conditional Formatting extension is not supported and will be removed\n",
      "  warn(msg)\n",
      "c:\\Users\\hofong\\Desktop\\python\\Python working station\\.venv\\Lib\\site-packages\\openpyxl\\worksheet\\_reader.py:329: UserWarning: Data Validation extension is not supported and will be removed\n",
      "  warn(msg)\n"
     ]
    },
    {
     "name": "stdout",
     "output_type": "stream",
     "text": [
      "Saved CSV file: C:\\Users\\hofong\\Desktop\\python\\Python working station\\Import files to DB\\CSV Converter\\2023 HKIJS - Govt_subsidy_w (4 line address - revised on 20230308) by order no._Doc-1-Non Local.csv\n"
     ]
    },
    {
     "name": "stderr",
     "output_type": "stream",
     "text": [
      "c:\\Users\\hofong\\Desktop\\python\\Python working station\\.venv\\Lib\\site-packages\\openpyxl\\worksheet\\_reader.py:329: UserWarning: Conditional Formatting extension is not supported and will be removed\n",
      "  warn(msg)\n",
      "c:\\Users\\hofong\\Desktop\\python\\Python working station\\.venv\\Lib\\site-packages\\openpyxl\\worksheet\\_reader.py:329: UserWarning: Data Validation extension is not supported and will be removed\n",
      "  warn(msg)\n"
     ]
    },
    {
     "name": "stdout",
     "output_type": "stream",
     "text": [
      "Saved CSV file: C:\\Users\\hofong\\Desktop\\python\\Python working station\\Import files to DB\\CSV Converter\\2023 HKILF(SE) - Govt_subsidy_w (4 line address - revised on 20230308)_Local.csv\n"
     ]
    },
    {
     "name": "stderr",
     "output_type": "stream",
     "text": [
      "c:\\Users\\hofong\\Desktop\\python\\Python working station\\.venv\\Lib\\site-packages\\openpyxl\\worksheet\\_reader.py:329: UserWarning: Conditional Formatting extension is not supported and will be removed\n",
      "  warn(msg)\n",
      "c:\\Users\\hofong\\Desktop\\python\\Python working station\\.venv\\Lib\\site-packages\\openpyxl\\worksheet\\_reader.py:329: UserWarning: Data Validation extension is not supported and will be removed\n",
      "  warn(msg)\n"
     ]
    },
    {
     "name": "stdout",
     "output_type": "stream",
     "text": [
      "Saved CSV file: C:\\Users\\hofong\\Desktop\\python\\Python working station\\Import files to DB\\CSV Converter\\2023 HKILF(SE) - Govt_subsidy_w (4 line address - revised on 20230308)_Non Local (excl Mainland China).csv\n"
     ]
    },
    {
     "name": "stderr",
     "output_type": "stream",
     "text": [
      "c:\\Users\\hofong\\Desktop\\python\\Python working station\\.venv\\Lib\\site-packages\\openpyxl\\worksheet\\_reader.py:329: UserWarning: Conditional Formatting extension is not supported and will be removed\n",
      "  warn(msg)\n",
      "c:\\Users\\hofong\\Desktop\\python\\Python working station\\.venv\\Lib\\site-packages\\openpyxl\\worksheet\\_reader.py:329: UserWarning: Data Validation extension is not supported and will be removed\n",
      "  warn(msg)\n"
     ]
    },
    {
     "name": "stdout",
     "output_type": "stream",
     "text": [
      "Saved CSV file: C:\\Users\\hofong\\Desktop\\python\\Python working station\\Import files to DB\\CSV Converter\\2023 Home InStyle _Govt_subsidy_w (1 line address - 28.07.2023)_Doc-1-Summary.csv\n"
     ]
    },
    {
     "name": "stderr",
     "output_type": "stream",
     "text": [
      "c:\\Users\\hofong\\Desktop\\python\\Python working station\\.venv\\Lib\\site-packages\\openpyxl\\worksheet\\_reader.py:329: UserWarning: Conditional Formatting extension is not supported and will be removed\n",
      "  warn(msg)\n",
      "c:\\Users\\hofong\\Desktop\\python\\Python working station\\.venv\\Lib\\site-packages\\openpyxl\\worksheet\\_reader.py:329: UserWarning: Data Validation extension is not supported and will be removed\n",
      "  warn(msg)\n"
     ]
    },
    {
     "name": "stdout",
     "output_type": "stream",
     "text": [
      "Saved CSV file: C:\\Users\\hofong\\Desktop\\python\\Python working station\\Import files to DB\\CSV Converter\\2023 Home InStyle _Govt_subsidy_w (1 line address - 28.07.2023)_Doc-1-Local.csv\n"
     ]
    },
    {
     "name": "stderr",
     "output_type": "stream",
     "text": [
      "c:\\Users\\hofong\\Desktop\\python\\Python working station\\.venv\\Lib\\site-packages\\openpyxl\\worksheet\\_reader.py:329: UserWarning: Conditional Formatting extension is not supported and will be removed\n",
      "  warn(msg)\n",
      "c:\\Users\\hofong\\Desktop\\python\\Python working station\\.venv\\Lib\\site-packages\\openpyxl\\worksheet\\_reader.py:329: UserWarning: Data Validation extension is not supported and will be removed\n",
      "  warn(msg)\n"
     ]
    },
    {
     "name": "stdout",
     "output_type": "stream",
     "text": [
      "Saved CSV file: C:\\Users\\hofong\\Desktop\\python\\Python working station\\Import files to DB\\CSV Converter\\2023 Home InStyle _Govt_subsidy_w (1 line address - 28.07.2023)_Doc-1-Non Local.csv\n",
      "Saved CSV file: C:\\Users\\hofong\\Desktop\\python\\Python working station\\Import files to DB\\CSV Converter\\2023 Home InStyle _Govt_subsidy_w (1 line address - 28.07.2023)_High Risk Non Local.csv\n",
      "Saved CSV file: C:\\Users\\hofong\\Desktop\\python\\Python working station\\Import files to DB\\CSV Converter\\2023 Home Textiles - Govt_subsidy_w (4 line address - revised on 20230308)_Doc-1-Summary.csv\n"
     ]
    },
    {
     "name": "stderr",
     "output_type": "stream",
     "text": [
      "c:\\Users\\hofong\\Desktop\\python\\Python working station\\.venv\\Lib\\site-packages\\openpyxl\\worksheet\\_reader.py:329: UserWarning: Conditional Formatting extension is not supported and will be removed\n",
      "  warn(msg)\n",
      "c:\\Users\\hofong\\Desktop\\python\\Python working station\\.venv\\Lib\\site-packages\\openpyxl\\worksheet\\_reader.py:329: UserWarning: Data Validation extension is not supported and will be removed\n",
      "  warn(msg)\n",
      "c:\\Users\\hofong\\Desktop\\python\\Python working station\\.venv\\Lib\\site-packages\\openpyxl\\worksheet\\_reader.py:329: UserWarning: Conditional Formatting extension is not supported and will be removed\n",
      "  warn(msg)\n",
      "c:\\Users\\hofong\\Desktop\\python\\Python working station\\.venv\\Lib\\site-packages\\openpyxl\\worksheet\\_reader.py:329: UserWarning: Data Validation extension is not supported and will be removed\n",
      "  warn(msg)\n"
     ]
    },
    {
     "name": "stdout",
     "output_type": "stream",
     "text": [
      "Saved CSV file: C:\\Users\\hofong\\Desktop\\python\\Python working station\\Import files to DB\\CSV Converter\\2023 Home Textiles - Govt_subsidy_w (4 line address - revised on 20230308)_Doc-1-Non Local.csv\n"
     ]
    },
    {
     "name": "stderr",
     "output_type": "stream",
     "text": [
      "c:\\Users\\hofong\\Desktop\\python\\Python working station\\.venv\\Lib\\site-packages\\openpyxl\\worksheet\\_reader.py:329: UserWarning: Conditional Formatting extension is not supported and will be removed\n",
      "  warn(msg)\n",
      "c:\\Users\\hofong\\Desktop\\python\\Python working station\\.venv\\Lib\\site-packages\\openpyxl\\worksheet\\_reader.py:329: UserWarning: Data Validation extension is not supported and will be removed\n",
      "  warn(msg)\n",
      "c:\\Users\\hofong\\Desktop\\python\\Python working station\\.venv\\Lib\\site-packages\\openpyxl\\worksheet\\_reader.py:329: UserWarning: Conditional Formatting extension is not supported and will be removed\n",
      "  warn(msg)\n",
      "c:\\Users\\hofong\\Desktop\\python\\Python working station\\.venv\\Lib\\site-packages\\openpyxl\\worksheet\\_reader.py:329: UserWarning: Data Validation extension is not supported and will be removed\n",
      "  warn(msg)\n"
     ]
    },
    {
     "name": "stdout",
     "output_type": "stream",
     "text": [
      "Saved CSV file: C:\\Users\\hofong\\Desktop\\python\\Python working station\\Import files to DB\\CSV Converter\\2023 IOTLE Govt_subsidy_w (4 line address) by order no, BR expiry (2023.12.29)_Doc-1-Summary.csv\n",
      "Saved CSV file: C:\\Users\\hofong\\Desktop\\python\\Python working station\\Import files to DB\\CSV Converter\\2023 IOTLE Govt_subsidy_w (4 line address) by order no, BR expiry (2023.12.29)_Doc-1-Non Local.csv\n"
     ]
    },
    {
     "name": "stderr",
     "output_type": "stream",
     "text": [
      "c:\\Users\\hofong\\Desktop\\python\\Python working station\\.venv\\Lib\\site-packages\\openpyxl\\worksheet\\_reader.py:329: UserWarning: Conditional Formatting extension is not supported and will be removed\n",
      "  warn(msg)\n",
      "c:\\Users\\hofong\\Desktop\\python\\Python working station\\.venv\\Lib\\site-packages\\openpyxl\\worksheet\\_reader.py:329: UserWarning: Data Validation extension is not supported and will be removed\n",
      "  warn(msg)\n",
      "c:\\Users\\hofong\\Desktop\\python\\Python working station\\.venv\\Lib\\site-packages\\openpyxl\\worksheet\\_reader.py:329: UserWarning: Conditional Formatting extension is not supported and will be removed\n",
      "  warn(msg)\n",
      "c:\\Users\\hofong\\Desktop\\python\\Python working station\\.venv\\Lib\\site-packages\\openpyxl\\worksheet\\_reader.py:329: UserWarning: Data Validation extension is not supported and will be removed\n",
      "  warn(msg)\n"
     ]
    },
    {
     "name": "stdout",
     "output_type": "stream",
     "text": [
      "Saved CSV file: C:\\Users\\hofong\\Desktop\\python\\Python working station\\Import files to DB\\CSV Converter\\2023 MarketingPulse & eTailingPulse - Govt_subsidy_w (4 line address - revised on 20230308) NO Abuse case_Doc-1-Summary.csv\n",
      "Saved CSV file: C:\\Users\\hofong\\Desktop\\python\\Python working station\\Import files to DB\\CSV Converter\\2023 MarketingPulse & eTailingPulse - Govt_subsidy_w (4 line address - revised on 20230308) NO Abuse case_Doc-1-Non Local.csv\n"
     ]
    },
    {
     "name": "stderr",
     "output_type": "stream",
     "text": [
      "c:\\Users\\hofong\\Desktop\\python\\Python working station\\.venv\\Lib\\site-packages\\openpyxl\\worksheet\\_reader.py:329: UserWarning: Conditional Formatting extension is not supported and will be removed\n",
      "  warn(msg)\n",
      "c:\\Users\\hofong\\Desktop\\python\\Python working station\\.venv\\Lib\\site-packages\\openpyxl\\worksheet\\_reader.py:329: UserWarning: Data Validation extension is not supported and will be removed\n",
      "  warn(msg)\n"
     ]
    },
    {
     "name": "stdout",
     "output_type": "stream",
     "text": [
      "Saved CSV file: C:\\Users\\hofong\\Desktop\\python\\Python working station\\Import files to DB\\CSV Converter\\2023 Medical - Govt_subsidy_w (4 line address - revised on 20230308)_Doc-1-Summary.csv\n"
     ]
    },
    {
     "name": "stderr",
     "output_type": "stream",
     "text": [
      "c:\\Users\\hofong\\Desktop\\python\\Python working station\\.venv\\Lib\\site-packages\\openpyxl\\worksheet\\_reader.py:329: UserWarning: Conditional Formatting extension is not supported and will be removed\n",
      "  warn(msg)\n",
      "c:\\Users\\hofong\\Desktop\\python\\Python working station\\.venv\\Lib\\site-packages\\openpyxl\\worksheet\\_reader.py:329: UserWarning: Data Validation extension is not supported and will be removed\n",
      "  warn(msg)\n"
     ]
    },
    {
     "name": "stdout",
     "output_type": "stream",
     "text": [
      "Saved CSV file: C:\\Users\\hofong\\Desktop\\python\\Python working station\\Import files to DB\\CSV Converter\\2023 Medical - Govt_subsidy_w (4 line address - revised on 20230308)_Doc-1-Non Local.csv\n"
     ]
    },
    {
     "name": "stderr",
     "output_type": "stream",
     "text": [
      "c:\\Users\\hofong\\Desktop\\python\\Python working station\\.venv\\Lib\\site-packages\\openpyxl\\worksheet\\_reader.py:329: UserWarning: Conditional Formatting extension is not supported and will be removed\n",
      "  warn(msg)\n",
      "c:\\Users\\hofong\\Desktop\\python\\Python working station\\.venv\\Lib\\site-packages\\openpyxl\\worksheet\\_reader.py:329: UserWarning: Data Validation extension is not supported and will be removed\n",
      "  warn(msg)\n"
     ]
    },
    {
     "name": "stdout",
     "output_type": "stream",
     "text": [
      "Saved CSV file: C:\\Users\\hofong\\Desktop\\python\\Python working station\\Import files to DB\\CSV Converter\\2023 PrintPack - Govt_subsidy_w (4 line address) 2023.08.31_Doc-1-Summary.csv\n"
     ]
    },
    {
     "name": "stderr",
     "output_type": "stream",
     "text": [
      "c:\\Users\\hofong\\Desktop\\python\\Python working station\\.venv\\Lib\\site-packages\\openpyxl\\worksheet\\_reader.py:329: UserWarning: Conditional Formatting extension is not supported and will be removed\n",
      "  warn(msg)\n",
      "c:\\Users\\hofong\\Desktop\\python\\Python working station\\.venv\\Lib\\site-packages\\openpyxl\\worksheet\\_reader.py:329: UserWarning: Data Validation extension is not supported and will be removed\n",
      "  warn(msg)\n"
     ]
    },
    {
     "name": "stdout",
     "output_type": "stream",
     "text": [
      "Saved CSV file: C:\\Users\\hofong\\Desktop\\python\\Python working station\\Import files to DB\\CSV Converter\\2023 PrintPack - Govt_subsidy_w (4 line address) 2023.08.31_Doc-1-Non Local.csv\n"
     ]
    },
    {
     "name": "stderr",
     "output_type": "stream",
     "text": [
      "c:\\Users\\hofong\\Desktop\\python\\Python working station\\.venv\\Lib\\site-packages\\openpyxl\\worksheet\\_reader.py:329: UserWarning: Conditional Formatting extension is not supported and will be removed\n",
      "  warn(msg)\n",
      "c:\\Users\\hofong\\Desktop\\python\\Python working station\\.venv\\Lib\\site-packages\\openpyxl\\worksheet\\_reader.py:329: UserWarning: Data Validation extension is not supported and will be removed\n",
      "  warn(msg)\n",
      "c:\\Users\\hofong\\Desktop\\python\\Python working station\\.venv\\Lib\\site-packages\\openpyxl\\worksheet\\_reader.py:329: UserWarning: Conditional Formatting extension is not supported and will be removed\n",
      "  warn(msg)\n",
      "c:\\Users\\hofong\\Desktop\\python\\Python working station\\.venv\\Lib\\site-packages\\openpyxl\\worksheet\\_reader.py:329: UserWarning: Data Validation extension is not supported and will be removed\n",
      "  warn(msg)\n"
     ]
    },
    {
     "name": "stdout",
     "output_type": "stream",
     "text": [
      "Saved CSV file: C:\\Users\\hofong\\Desktop\\python\\Python working station\\Import files to DB\\CSV Converter\\2023 Wine Govt_subsidy_w (4 line address) by order no, BR expiry (2024.01.30)_Doc-1-Summary.csv\n",
      "Saved CSV file: C:\\Users\\hofong\\Desktop\\python\\Python working station\\Import files to DB\\CSV Converter\\2023 Wine Govt_subsidy_w (4 line address) by order no, BR expiry (2024.01.30)_Doc-1-Non Local.csv\n"
     ]
    },
    {
     "name": "stderr",
     "output_type": "stream",
     "text": [
      "c:\\Users\\hofong\\Desktop\\python\\Python working station\\.venv\\Lib\\site-packages\\openpyxl\\worksheet\\_reader.py:329: UserWarning: Conditional Formatting extension is not supported and will be removed\n",
      "  warn(msg)\n",
      "c:\\Users\\hofong\\Desktop\\python\\Python working station\\.venv\\Lib\\site-packages\\openpyxl\\worksheet\\_reader.py:329: UserWarning: Data Validation extension is not supported and will be removed\n",
      "  warn(msg)\n"
     ]
    },
    {
     "name": "stdout",
     "output_type": "stream",
     "text": [
      "Saved CSV file: C:\\Users\\hofong\\Desktop\\python\\Python working station\\Import files to DB\\CSV Converter\\Belt and Rod Summit 2023 - Govt_subsidy_w (4 line address) by order no, BR expiry (revised 2023.08.03) _1 Dec 2023 with Sponsor_Doc-1-Summary.csv\n"
     ]
    },
    {
     "name": "stderr",
     "output_type": "stream",
     "text": [
      "c:\\Users\\hofong\\Desktop\\python\\Python working station\\.venv\\Lib\\site-packages\\openpyxl\\worksheet\\_reader.py:329: UserWarning: Conditional Formatting extension is not supported and will be removed\n",
      "  warn(msg)\n",
      "c:\\Users\\hofong\\Desktop\\python\\Python working station\\.venv\\Lib\\site-packages\\openpyxl\\worksheet\\_reader.py:329: UserWarning: Data Validation extension is not supported and will be removed\n",
      "  warn(msg)\n"
     ]
    },
    {
     "name": "stdout",
     "output_type": "stream",
     "text": [
      "Saved CSV file: C:\\Users\\hofong\\Desktop\\python\\Python working station\\Import files to DB\\CSV Converter\\Belt and Rod Summit 2023 - Govt_subsidy_w (4 line address) by order no, BR expiry (revised 2023.08.03) _1 Dec 2023 with Sponsor_Doc-1-Local.csv\n"
     ]
    },
    {
     "name": "stderr",
     "output_type": "stream",
     "text": [
      "c:\\Users\\hofong\\Desktop\\python\\Python working station\\.venv\\Lib\\site-packages\\openpyxl\\worksheet\\_reader.py:329: UserWarning: Conditional Formatting extension is not supported and will be removed\n",
      "  warn(msg)\n",
      "c:\\Users\\hofong\\Desktop\\python\\Python working station\\.venv\\Lib\\site-packages\\openpyxl\\worksheet\\_reader.py:329: UserWarning: Data Validation extension is not supported and will be removed\n",
      "  warn(msg)\n"
     ]
    },
    {
     "name": "stdout",
     "output_type": "stream",
     "text": [
      "Saved CSV file: C:\\Users\\hofong\\Desktop\\python\\Python working station\\Import files to DB\\CSV Converter\\Belt and Rod Summit 2023 - Govt_subsidy_w (4 line address) by order no, BR expiry (revised 2023.08.03) _1 Dec 2023 with Sponsor_Doc-1-Non Local.csv\n"
     ]
    },
    {
     "name": "stderr",
     "output_type": "stream",
     "text": [
      "c:\\Users\\hofong\\Desktop\\python\\Python working station\\.venv\\Lib\\site-packages\\openpyxl\\worksheet\\_reader.py:329: UserWarning: Conditional Formatting extension is not supported and will be removed\n",
      "  warn(msg)\n",
      "c:\\Users\\hofong\\Desktop\\python\\Python working station\\.venv\\Lib\\site-packages\\openpyxl\\worksheet\\_reader.py:329: UserWarning: Data Validation extension is not supported and will be removed\n",
      "  warn(msg)\n"
     ]
    },
    {
     "name": "stdout",
     "output_type": "stream",
     "text": [
      "Saved CSV file: C:\\Users\\hofong\\Desktop\\python\\Python working station\\Import files to DB\\CSV Converter\\Fashion Instyle 2023 - Govt_subsidy_w (revised on 20230315)_01.06.2023 (with address)_Doc-1-Summary.csv\n"
     ]
    },
    {
     "name": "stderr",
     "output_type": "stream",
     "text": [
      "c:\\Users\\hofong\\Desktop\\python\\Python working station\\.venv\\Lib\\site-packages\\openpyxl\\worksheet\\_reader.py:329: UserWarning: Conditional Formatting extension is not supported and will be removed\n",
      "  warn(msg)\n",
      "c:\\Users\\hofong\\Desktop\\python\\Python working station\\.venv\\Lib\\site-packages\\openpyxl\\worksheet\\_reader.py:329: UserWarning: Data Validation extension is not supported and will be removed\n",
      "  warn(msg)\n"
     ]
    },
    {
     "name": "stdout",
     "output_type": "stream",
     "text": [
      "Saved CSV file: C:\\Users\\hofong\\Desktop\\python\\Python working station\\Import files to DB\\CSV Converter\\Food Expo 2023 (Public) - Govt_subsidy_w (4 line address) by order no, BR expiry (2023.10.25)_Doc-1-Summary.csv\n"
     ]
    },
    {
     "name": "stderr",
     "output_type": "stream",
     "text": [
      "c:\\Users\\hofong\\Desktop\\python\\Python working station\\.venv\\Lib\\site-packages\\openpyxl\\worksheet\\_reader.py:329: UserWarning: Conditional Formatting extension is not supported and will be removed\n",
      "  warn(msg)\n",
      "c:\\Users\\hofong\\Desktop\\python\\Python working station\\.venv\\Lib\\site-packages\\openpyxl\\worksheet\\_reader.py:329: UserWarning: Data Validation extension is not supported and will be removed\n",
      "  warn(msg)\n"
     ]
    },
    {
     "name": "stdout",
     "output_type": "stream",
     "text": [
      "Saved CSV file: C:\\Users\\hofong\\Desktop\\python\\Python working station\\Import files to DB\\CSV Converter\\Food Expo 2023 (Public) - Govt_subsidy_w (4 line address) by order no, BR expiry (2023.10.25)_Doc-1-Non Local.csv\n"
     ]
    },
    {
     "name": "stderr",
     "output_type": "stream",
     "text": [
      "c:\\Users\\hofong\\Desktop\\python\\Python working station\\.venv\\Lib\\site-packages\\openpyxl\\worksheet\\_reader.py:329: UserWarning: Conditional Formatting extension is not supported and will be removed\n",
      "  warn(msg)\n",
      "c:\\Users\\hofong\\Desktop\\python\\Python working station\\.venv\\Lib\\site-packages\\openpyxl\\worksheet\\_reader.py:329: UserWarning: Data Validation extension is not supported and will be removed\n",
      "  warn(msg)\n"
     ]
    },
    {
     "name": "stdout",
     "output_type": "stream",
     "text": [
      "Saved CSV file: C:\\Users\\hofong\\Desktop\\python\\Python working station\\Import files to DB\\CSV Converter\\Food Expo 2023 (Public) - Govt_subsidy_w (4 line address) by order no, BR expiry (2023.10.25)_Summary (spare).csv\n"
     ]
    },
    {
     "name": "stderr",
     "output_type": "stream",
     "text": [
      "c:\\Users\\hofong\\Desktop\\python\\Python working station\\.venv\\Lib\\site-packages\\openpyxl\\worksheet\\_reader.py:329: UserWarning: Conditional Formatting extension is not supported and will be removed\n",
      "  warn(msg)\n",
      "c:\\Users\\hofong\\Desktop\\python\\Python working station\\.venv\\Lib\\site-packages\\openpyxl\\worksheet\\_reader.py:329: UserWarning: Data Validation extension is not supported and will be removed\n",
      "  warn(msg)\n"
     ]
    },
    {
     "name": "stdout",
     "output_type": "stream",
     "text": [
      "Saved CSV file: C:\\Users\\hofong\\Desktop\\python\\Python working station\\Import files to DB\\CSV Converter\\Food PRO 2023 [4127] Govt_subsidy_w (4 line address) by order no, BR expiry, BR Address_Doc-1-Summary.csv\n"
     ]
    },
    {
     "name": "stderr",
     "output_type": "stream",
     "text": [
      "c:\\Users\\hofong\\Desktop\\python\\Python working station\\.venv\\Lib\\site-packages\\openpyxl\\worksheet\\_reader.py:329: UserWarning: Conditional Formatting extension is not supported and will be removed\n",
      "  warn(msg)\n",
      "c:\\Users\\hofong\\Desktop\\python\\Python working station\\.venv\\Lib\\site-packages\\openpyxl\\worksheet\\_reader.py:329: UserWarning: Data Validation extension is not supported and will be removed\n",
      "  warn(msg)\n"
     ]
    },
    {
     "name": "stdout",
     "output_type": "stream",
     "text": [
      "Saved CSV file: C:\\Users\\hofong\\Desktop\\python\\Python working station\\Import files to DB\\CSV Converter\\Food PRO 2023 [4127] Govt_subsidy_w (4 line address) by order no, BR expiry, BR Address_Doc-1-Local.csv\n"
     ]
    },
    {
     "name": "stderr",
     "output_type": "stream",
     "text": [
      "c:\\Users\\hofong\\Desktop\\python\\Python working station\\.venv\\Lib\\site-packages\\openpyxl\\worksheet\\_reader.py:329: UserWarning: Conditional Formatting extension is not supported and will be removed\n",
      "  warn(msg)\n",
      "c:\\Users\\hofong\\Desktop\\python\\Python working station\\.venv\\Lib\\site-packages\\openpyxl\\worksheet\\_reader.py:329: UserWarning: Data Validation extension is not supported and will be removed\n",
      "  warn(msg)\n"
     ]
    },
    {
     "name": "stdout",
     "output_type": "stream",
     "text": [
      "Saved CSV file: C:\\Users\\hofong\\Desktop\\python\\Python working station\\Import files to DB\\CSV Converter\\Food PRO 2023 [4127] Govt_subsidy_w (4 line address) by order no, BR expiry, BR Address_Doc-1-Non Local.csv\n"
     ]
    },
    {
     "name": "stderr",
     "output_type": "stream",
     "text": [
      "c:\\Users\\hofong\\Desktop\\python\\Python working station\\.venv\\Lib\\site-packages\\openpyxl\\worksheet\\_reader.py:329: UserWarning: Conditional Formatting extension is not supported and will be removed\n",
      "  warn(msg)\n",
      "c:\\Users\\hofong\\Desktop\\python\\Python working station\\.venv\\Lib\\site-packages\\openpyxl\\worksheet\\_reader.py:329: UserWarning: Data Validation extension is not supported and will be removed\n",
      "  warn(msg)\n"
     ]
    },
    {
     "name": "stdout",
     "output_type": "stream",
     "text": [
      "Saved CSV file: C:\\Users\\hofong\\Desktop\\python\\Python working station\\Import files to DB\\CSV Converter\\HKTDC HK Baby Products Fair 2023 - Govt_subsidy_w_16 Mar 2023 (with address)_Doc-1-Summary.csv\n",
      "Saved CSV file: C:\\Users\\hofong\\Desktop\\python\\Python working station\\Import files to DB\\CSV Converter\\HKTDC HK Baby Products Fair 2023 - Govt_subsidy_w_16 Mar 2023 (with address)_High Risk Non Local.csv\n"
     ]
    },
    {
     "name": "stderr",
     "output_type": "stream",
     "text": [
      "c:\\Users\\hofong\\Desktop\\python\\Python working station\\.venv\\Lib\\site-packages\\openpyxl\\worksheet\\_reader.py:329: UserWarning: Conditional Formatting extension is not supported and will be removed\n",
      "  warn(msg)\n",
      "c:\\Users\\hofong\\Desktop\\python\\Python working station\\.venv\\Lib\\site-packages\\openpyxl\\worksheet\\_reader.py:329: UserWarning: Data Validation extension is not supported and will be removed\n",
      "  warn(msg)\n"
     ]
    },
    {
     "name": "stdout",
     "output_type": "stream",
     "text": [
      "Saved CSV file: C:\\Users\\hofong\\Desktop\\python\\Python working station\\Import files to DB\\CSV Converter\\HKTDC HK Int'l Diamond, GEM & Pearl 2023 - Govt_subsidy_w (revised on 20230315)_19 Jun 2023 (with address) (updated BR_18 Sep 2023)_Doc-1-Summary.csv\n",
      "Saved CSV file: C:\\Users\\hofong\\Desktop\\python\\Python working station\\Import files to DB\\CSV Converter\\HKTDC HK Int'l Diamond, GEM & Pearl 2023 - Govt_subsidy_w (revised on 20230315)_19 Jun 2023 (with address) (updated BR_18 Sep 2023)_High Risk Non Local.csv\n"
     ]
    },
    {
     "name": "stderr",
     "output_type": "stream",
     "text": [
      "c:\\Users\\hofong\\Desktop\\python\\Python working station\\.venv\\Lib\\site-packages\\openpyxl\\worksheet\\_reader.py:329: UserWarning: Conditional Formatting extension is not supported and will be removed\n",
      "  warn(msg)\n",
      "c:\\Users\\hofong\\Desktop\\python\\Python working station\\.venv\\Lib\\site-packages\\openpyxl\\worksheet\\_reader.py:329: UserWarning: Data Validation extension is not supported and will be removed\n",
      "  warn(msg)\n",
      "c:\\Users\\hofong\\Desktop\\python\\Python working station\\.venv\\Lib\\site-packages\\openpyxl\\worksheet\\_reader.py:329: UserWarning: Conditional Formatting extension is not supported and will be removed\n",
      "  warn(msg)\n",
      "c:\\Users\\hofong\\Desktop\\python\\Python working station\\.venv\\Lib\\site-packages\\openpyxl\\worksheet\\_reader.py:329: UserWarning: Data Validation extension is not supported and will be removed\n",
      "  warn(msg)\n"
     ]
    },
    {
     "name": "stdout",
     "output_type": "stream",
     "text": [
      "Saved CSV file: C:\\Users\\hofong\\Desktop\\python\\Python working station\\Import files to DB\\CSV Converter\\HKTDC HK International Tea Fair 2023 - Govt_subsidy_w (4 line address) by order no, BR expiry (revised 2023.08.03) _20 Oct 2023 with address_Doc-1-Summary.csv\n",
      "Saved CSV file: C:\\Users\\hofong\\Desktop\\python\\Python working station\\Import files to DB\\CSV Converter\\HKTDC HK International Tea Fair 2023 - Govt_subsidy_w (4 line address) by order no, BR expiry (revised 2023.08.03) _20 Oct 2023 with address_Doc-1-Local.csv\n"
     ]
    },
    {
     "name": "stderr",
     "output_type": "stream",
     "text": [
      "c:\\Users\\hofong\\Desktop\\python\\Python working station\\.venv\\Lib\\site-packages\\openpyxl\\worksheet\\_reader.py:329: UserWarning: Conditional Formatting extension is not supported and will be removed\n",
      "  warn(msg)\n",
      "c:\\Users\\hofong\\Desktop\\python\\Python working station\\.venv\\Lib\\site-packages\\openpyxl\\worksheet\\_reader.py:329: UserWarning: Data Validation extension is not supported and will be removed\n",
      "  warn(msg)\n"
     ]
    },
    {
     "name": "stdout",
     "output_type": "stream",
     "text": [
      "Saved CSV file: C:\\Users\\hofong\\Desktop\\python\\Python working station\\Import files to DB\\CSV Converter\\HKTDC HK International Tea Fair 2023 - Govt_subsidy_w (4 line address) by order no, BR expiry (revised 2023.08.03) _20 Oct 2023 with address_Doc-1-Non Local.csv\n"
     ]
    },
    {
     "name": "stderr",
     "output_type": "stream",
     "text": [
      "c:\\Users\\hofong\\Desktop\\python\\Python working station\\.venv\\Lib\\site-packages\\openpyxl\\worksheet\\_reader.py:329: UserWarning: Conditional Formatting extension is not supported and will be removed\n",
      "  warn(msg)\n",
      "c:\\Users\\hofong\\Desktop\\python\\Python working station\\.venv\\Lib\\site-packages\\openpyxl\\worksheet\\_reader.py:329: UserWarning: Data Validation extension is not supported and will be removed\n",
      "  warn(msg)\n",
      "c:\\Users\\hofong\\Desktop\\python\\Python working station\\.venv\\Lib\\site-packages\\openpyxl\\worksheet\\_reader.py:329: UserWarning: Conditional Formatting extension is not supported and will be removed\n",
      "  warn(msg)\n",
      "c:\\Users\\hofong\\Desktop\\python\\Python working station\\.venv\\Lib\\site-packages\\openpyxl\\worksheet\\_reader.py:329: UserWarning: Data Validation extension is not supported and will be removed\n",
      "  warn(msg)\n"
     ]
    },
    {
     "name": "stdout",
     "output_type": "stream",
     "text": [
      "Saved CSV file: C:\\Users\\hofong\\Desktop\\python\\Python working station\\Import files to DB\\CSV Converter\\HKTDC Hong Kong Sports and Leisure Expo 2023 - Govt_subsidy_w by order no, BR expiry_30 Oct 2023 (with address)_Doc-1-Summary.csv\n",
      "Saved CSV file: C:\\Users\\hofong\\Desktop\\python\\Python working station\\Import files to DB\\CSV Converter\\HKTDC Hong Kong Sports and Leisure Expo 2023 - Govt_subsidy_w by order no, BR expiry_30 Oct 2023 (with address)_Doc-1-Non Local.csv\n"
     ]
    },
    {
     "name": "stderr",
     "output_type": "stream",
     "text": [
      "c:\\Users\\hofong\\Desktop\\python\\Python working station\\.venv\\Lib\\site-packages\\openpyxl\\worksheet\\_reader.py:329: UserWarning: Conditional Formatting extension is not supported and will be removed\n",
      "  warn(msg)\n",
      "c:\\Users\\hofong\\Desktop\\python\\Python working station\\.venv\\Lib\\site-packages\\openpyxl\\worksheet\\_reader.py:329: UserWarning: Data Validation extension is not supported and will be removed\n",
      "  warn(msg)\n"
     ]
    },
    {
     "name": "stdout",
     "output_type": "stream",
     "text": [
      "Saved CSV file: C:\\Users\\hofong\\Desktop\\python\\Python working station\\Import files to DB\\CSV Converter\\HKTDC Hong Kong Toys & Games Fair 2023 - Govt_subsidy_w (revised on 20230314)_Doc-1-Summary.csv\n"
     ]
    },
    {
     "name": "stderr",
     "output_type": "stream",
     "text": [
      "c:\\Users\\hofong\\Desktop\\python\\Python working station\\.venv\\Lib\\site-packages\\openpyxl\\worksheet\\_reader.py:329: UserWarning: Conditional Formatting extension is not supported and will be removed\n",
      "  warn(msg)\n",
      "c:\\Users\\hofong\\Desktop\\python\\Python working station\\.venv\\Lib\\site-packages\\openpyxl\\worksheet\\_reader.py:329: UserWarning: Data Validation extension is not supported and will be removed\n",
      "  warn(msg)\n"
     ]
    },
    {
     "name": "stdout",
     "output_type": "stream",
     "text": [
      "Saved CSV file: C:\\Users\\hofong\\Desktop\\python\\Python working station\\Import files to DB\\CSV Converter\\HKTDC Hong Kong Toys & Games Fair 2023 - Govt_subsidy_w (revised on 20230314)_Doc-1-Non Local.csv\n"
     ]
    },
    {
     "name": "stderr",
     "output_type": "stream",
     "text": [
      "c:\\Users\\hofong\\Desktop\\python\\Python working station\\.venv\\Lib\\site-packages\\openpyxl\\worksheet\\_reader.py:329: UserWarning: Conditional Formatting extension is not supported and will be removed\n",
      "  warn(msg)\n",
      "c:\\Users\\hofong\\Desktop\\python\\Python working station\\.venv\\Lib\\site-packages\\openpyxl\\worksheet\\_reader.py:329: UserWarning: Data Validation extension is not supported and will be removed\n",
      "  warn(msg)\n"
     ]
    },
    {
     "name": "stdout",
     "output_type": "stream",
     "text": [
      "Saved CSV file: C:\\Users\\hofong\\Desktop\\python\\Python working station\\Import files to DB\\CSV Converter\\Hong Kong International Stationery & School Supplies Fair 2023 - Govt_subsidy_w (added non local exhibitor 202303010)_Checked and no abuse case_Doc-1-Summary.csv\n"
     ]
    },
    {
     "name": "stderr",
     "output_type": "stream",
     "text": [
      "c:\\Users\\hofong\\Desktop\\python\\Python working station\\.venv\\Lib\\site-packages\\openpyxl\\worksheet\\_reader.py:329: UserWarning: Data Validation extension is not supported and will be removed\n",
      "  warn(msg)\n"
     ]
    },
    {
     "name": "stdout",
     "output_type": "stream",
     "text": [
      "Saved CSV file: C:\\Users\\hofong\\Desktop\\python\\Python working station\\Import files to DB\\CSV Converter\\Hong Kong International Stationery & School Supplies Fair 2023 - Govt_subsidy_w (added non local exhibitor 202303010)_Checked and no abuse case_Doc-1-Non Local.csv\n"
     ]
    },
    {
     "name": "stderr",
     "output_type": "stream",
     "text": [
      "c:\\Users\\hofong\\Desktop\\python\\Python working station\\.venv\\Lib\\site-packages\\openpyxl\\worksheet\\_reader.py:329: UserWarning: Conditional Formatting extension is not supported and will be removed\n",
      "  warn(msg)\n",
      "c:\\Users\\hofong\\Desktop\\python\\Python working station\\.venv\\Lib\\site-packages\\openpyxl\\worksheet\\_reader.py:329: UserWarning: Data Validation extension is not supported and will be removed\n",
      "  warn(msg)\n",
      "c:\\Users\\hofong\\Desktop\\python\\Python working station\\.venv\\Lib\\site-packages\\openpyxl\\worksheet\\_reader.py:329: UserWarning: Conditional Formatting extension is not supported and will be removed\n",
      "  warn(msg)\n",
      "c:\\Users\\hofong\\Desktop\\python\\Python working station\\.venv\\Lib\\site-packages\\openpyxl\\worksheet\\_reader.py:329: UserWarning: Data Validation extension is not supported and will be removed\n",
      "  warn(msg)\n"
     ]
    },
    {
     "name": "stdout",
     "output_type": "stream",
     "text": [
      "Saved CSV file: C:\\Users\\hofong\\Desktop\\python\\Python working station\\Import files to DB\\CSV Converter\\InnoEx 2023 - Govt_subsidy_w  (revised 2023.08.03) _13 Dec 2023_Doc-1-Summary.csv\n",
      "Saved CSV file: C:\\Users\\hofong\\Desktop\\python\\Python working station\\Import files to DB\\CSV Converter\\InnoEx 2023 - Govt_subsidy_w  (revised 2023.08.03) _13 Dec 2023_Doc-1 Local.csv\n"
     ]
    },
    {
     "name": "stderr",
     "output_type": "stream",
     "text": [
      "c:\\Users\\hofong\\Desktop\\python\\Python working station\\.venv\\Lib\\site-packages\\openpyxl\\worksheet\\_reader.py:329: UserWarning: Conditional Formatting extension is not supported and will be removed\n",
      "  warn(msg)\n",
      "c:\\Users\\hofong\\Desktop\\python\\Python working station\\.venv\\Lib\\site-packages\\openpyxl\\worksheet\\_reader.py:329: UserWarning: Data Validation extension is not supported and will be removed\n",
      "  warn(msg)\n"
     ]
    },
    {
     "name": "stdout",
     "output_type": "stream",
     "text": [
      "Saved CSV file: C:\\Users\\hofong\\Desktop\\python\\Python working station\\Import files to DB\\CSV Converter\\InnoEx 2023 - Govt_subsidy_w  (revised 2023.08.03) _13 Dec 2023_Doc-1-Non Local.csv\n"
     ]
    },
    {
     "name": "stderr",
     "output_type": "stream",
     "text": [
      "c:\\Users\\hofong\\Desktop\\python\\Python working station\\.venv\\Lib\\site-packages\\openpyxl\\worksheet\\_reader.py:329: UserWarning: Conditional Formatting extension is not supported and will be removed\n",
      "  warn(msg)\n",
      "c:\\Users\\hofong\\Desktop\\python\\Python working station\\.venv\\Lib\\site-packages\\openpyxl\\worksheet\\_reader.py:329: UserWarning: Data Validation extension is not supported and will be removed\n",
      "  warn(msg)\n"
     ]
    },
    {
     "name": "stdout",
     "output_type": "stream",
     "text": [
      "Saved CSV file: C:\\Users\\hofong\\Desktop\\python\\Python working station\\Import files to DB\\CSV Converter\\W&C_2023 - Govt_subsidy_w (4 line address) by order no, BR expiry_Doc-1-Summary (BACK UP).csv\n"
     ]
    },
    {
     "name": "stderr",
     "output_type": "stream",
     "text": [
      "c:\\Users\\hofong\\Desktop\\python\\Python working station\\.venv\\Lib\\site-packages\\openpyxl\\worksheet\\_reader.py:329: UserWarning: Conditional Formatting extension is not supported and will be removed\n",
      "  warn(msg)\n",
      "c:\\Users\\hofong\\Desktop\\python\\Python working station\\.venv\\Lib\\site-packages\\openpyxl\\worksheet\\_reader.py:329: UserWarning: Data Validation extension is not supported and will be removed\n",
      "  warn(msg)\n"
     ]
    },
    {
     "name": "stdout",
     "output_type": "stream",
     "text": [
      "Saved CSV file: C:\\Users\\hofong\\Desktop\\python\\Python working station\\Import files to DB\\CSV Converter\\W&C_2023 - Govt_subsidy_w (4 line address) by order no, BR expiry_Doc-1-Summary.csv\n"
     ]
    },
    {
     "name": "stderr",
     "output_type": "stream",
     "text": [
      "c:\\Users\\hofong\\Desktop\\python\\Python working station\\.venv\\Lib\\site-packages\\openpyxl\\worksheet\\_reader.py:329: UserWarning: Conditional Formatting extension is not supported and will be removed\n",
      "  warn(msg)\n",
      "c:\\Users\\hofong\\Desktop\\python\\Python working station\\.venv\\Lib\\site-packages\\openpyxl\\worksheet\\_reader.py:329: UserWarning: Data Validation extension is not supported and will be removed\n",
      "  warn(msg)\n"
     ]
    },
    {
     "name": "stdout",
     "output_type": "stream",
     "text": [
      "Saved CSV file: C:\\Users\\hofong\\Desktop\\python\\Python working station\\Import files to DB\\CSV Converter\\W&C_2023 - Govt_subsidy_w (4 line address) by order no, BR expiry_Doc-1-Non Local.csv\n"
     ]
    },
    {
     "name": "stderr",
     "output_type": "stream",
     "text": [
      "c:\\Users\\hofong\\Desktop\\python\\Python working station\\.venv\\Lib\\site-packages\\openpyxl\\worksheet\\_reader.py:329: UserWarning: Conditional Formatting extension is not supported and will be removed\n",
      "  warn(msg)\n",
      "c:\\Users\\hofong\\Desktop\\python\\Python working station\\.venv\\Lib\\site-packages\\openpyxl\\worksheet\\_reader.py:329: UserWarning: Data Validation extension is not supported and will be removed\n",
      "  warn(msg)\n"
     ]
    },
    {
     "name": "stdout",
     "output_type": "stream",
     "text": [
      "Saved CSV file: C:\\Users\\hofong\\Desktop\\python\\Python working station\\Import files to DB\\CSV Converter\\Wine & Spirits Fair (Special Edition) - Govt_subsidy_w_20 Jan 2023 (with address)_no abuse_Doc-1-Summary.csv\n"
     ]
    },
    {
     "name": "stderr",
     "output_type": "stream",
     "text": [
      "c:\\Users\\hofong\\Desktop\\python\\Python working station\\.venv\\Lib\\site-packages\\openpyxl\\worksheet\\_reader.py:329: UserWarning: Conditional Formatting extension is not supported and will be removed\n",
      "  warn(msg)\n",
      "c:\\Users\\hofong\\Desktop\\python\\Python working station\\.venv\\Lib\\site-packages\\openpyxl\\worksheet\\_reader.py:329: UserWarning: Data Validation extension is not supported and will be removed\n",
      "  warn(msg)\n"
     ]
    },
    {
     "name": "stdout",
     "output_type": "stream",
     "text": [
      "Saved CSV file: C:\\Users\\hofong\\Desktop\\python\\Python working station\\Import files to DB\\CSV Converter\\World of Snacks 2023_Govt_subsidy_w (4 line address) by order no, BR expiry (2023.10.31)_Doc-1-Summary.csv\n"
     ]
    },
    {
     "name": "stderr",
     "output_type": "stream",
     "text": [
      "c:\\Users\\hofong\\Desktop\\python\\Python working station\\.venv\\Lib\\site-packages\\openpyxl\\worksheet\\_reader.py:329: UserWarning: Conditional Formatting extension is not supported and will be removed\n",
      "  warn(msg)\n",
      "c:\\Users\\hofong\\Desktop\\python\\Python working station\\.venv\\Lib\\site-packages\\openpyxl\\worksheet\\_reader.py:329: UserWarning: Data Validation extension is not supported and will be removed\n",
      "  warn(msg)\n"
     ]
    },
    {
     "name": "stdout",
     "output_type": "stream",
     "text": [
      "Saved CSV file: C:\\Users\\hofong\\Desktop\\python\\Python working station\\Import files to DB\\CSV Converter\\World of Snacks 2023_Govt_subsidy_w (4 line address) by order no, BR expiry (2023.10.31)_Doc-1-Non Local.csv\n"
     ]
    },
    {
     "name": "stderr",
     "output_type": "stream",
     "text": [
      "c:\\Users\\hofong\\Desktop\\python\\Python working station\\.venv\\Lib\\site-packages\\openpyxl\\worksheet\\_reader.py:329: UserWarning: Conditional Formatting extension is not supported and will be removed\n",
      "  warn(msg)\n",
      "c:\\Users\\hofong\\Desktop\\python\\Python working station\\.venv\\Lib\\site-packages\\openpyxl\\worksheet\\_reader.py:329: UserWarning: Data Validation extension is not supported and will be removed\n",
      "  warn(msg)\n"
     ]
    },
    {
     "name": "stdout",
     "output_type": "stream",
     "text": [
      "Saved CSV file: C:\\Users\\hofong\\Desktop\\python\\Python working station\\Import files to DB\\CSV Converter\\World of Snacks 2023_Govt_subsidy_w (4 line address) by order no, BR expiry (2023.10.31)_Doc-1-Summary (SPARE).csv\n",
      "Successfully imported (All)_HKTDC_HK_Gifts_&_Premium_2023_-_Govt_subsidy_w_(revised_on_20230315)_2_June_2023_(with_address)_18_July_2023_new_Doc-1-Summary.csv into Database!\n",
      "Successfully imported (All)_HKTDC_HK_Gifts_&_Premium_2023_-_Govt_subsidy_w_(revised_on_20230315)_2_June_2023_(with_address)_18_July_2023_new_Non-local.csv into Database!\n",
      "Successfully imported 2021_ISS_-_Govt_subsidy_ISS_(added_non_local_exhibitor_2023309)_Doc-1-Non_Local.csv into Database!\n",
      "Successfully imported 2021_ISS_-_Govt_subsidy_ISS_(added_non_local_exhibitor_2023309)_Doc-1-Summary.csv into Database!\n",
      "Successfully imported 2022_ALMAC_-_Govt_subsidy_w_(revised_on_20220715)_2023.01.13_(No_abuse_case)_Doc-1-Summary.csv into Database!\n",
      "Successfully imported 2022_Beauty_&_Wellness_-_Govt_subsidy_w_2022.08.29_(with_BR_address)_Doc-1-Summary.csv into Database!\n",
      "Successfully imported 2022_Book_Govt_subsidy_w_(added_non_local_exhibitor_20230308)_Doc-1-Non_Local.csv into Database!\n",
      "Successfully imported 2022_Book_Govt_subsidy_w_(added_non_local_exhibitor_20230308)_Doc-1-Summary.csv into Database!\n",
      "Successfully imported 2022_CENTRESTAGE_-_Govt_subsidy_w_(added_non_local_exhibitor_20230308)_Doc-1-Non_Local.csv into Database!\n",
      "Successfully imported 2022_CENTRESTAGE_-_Govt_subsidy_w_(added_non_local_exhibitor_20230308)_Doc-1-Summary.csv into Database!\n",
      "Successfully imported 2022_Diamond_Govt_subsidy_w__added_non_local_exhibitor_20230308_(with_BR_address)_Doc-1-Non_Local.csv into Database!\n",
      "Successfully imported 2022_Diamond_Govt_subsidy_w__added_non_local_exhibitor_20230308_(with_BR_address)_Doc-1-Summary.csv into Database!\n",
      "Successfully imported 2022_E_Day_-_Govt_subsidy_w_(added_non_local_exhibitor_20230308)__(No_abuse_case)_Doc-1-Non_Local.csv into Database!\n",
      "Successfully imported 2022_E_Day_-_Govt_subsidy_w_(added_non_local_exhibitor_20230308)__(No_abuse_case)_Doc-1-Summary.csv into Database!\n",
      "Successfully imported 2022_ECO_-_Govt_subsidy_w_(2023.03.07)_Doc-1-HK_Summary.csv into Database!\n",
      "Successfully imported 2022_ECO_-_Govt_subsidy_w_(2023.03.07)_Doc-1-Non_Local.csv into Database!\n",
      "Successfully imported 2022_Education_-_Govt_subsidy_w_(added_non_local_exhibitor_20230306)_checked_and_no_abuse_case_Doc-1-Non_Local.csv into Database!\n",
      "Successfully imported 2022_Education_-_Govt_subsidy_w_(added_non_local_exhibitor_20230306)_checked_and_no_abuse_case_Doc-1-Summary.csv into Database!\n",
      "Successfully imported 2022_Food_Govt_subsidy_w_(added_non_local_exhibitor)_Doc-1-Non_Local.csv into Database!\n",
      "Successfully imported 2022_Food_Govt_subsidy_w_(added_non_local_exhibitor)_Doc-1-Summary.csv into Database!\n",
      "Successfully imported 2022_HKIJS_Govt_subsidy_w_(revised_on_20220715)_added_non_local_exhibitor_20230308_Doc-1-Non_Local.csv into Database!\n",
      "Successfully imported 2022_HKIJS_Govt_subsidy_w_(revised_on_20220715)_added_non_local_exhibitor_20230308_Doc-1-Summary.csv into Database!\n",
      "Successfully imported 2022_Home_Delights_-_Govt_subsidy_w_2022.08.25_(with_BR_address)_Doc-1-Summary.csv into Database!\n",
      "Successfully imported 2022_Houseware_Govt_subsidy_w_(revised_on_20220715)_2022.08.12_(all)_v3_(added_non-local_exhibitor_2023.02.20)_Doc-1-Non_Local.csv into Database!\n",
      "Successfully imported 2022_Houseware_Govt_subsidy_w_(revised_on_20220715)_2022.08.12_(all)_v3_(added_non-local_exhibitor_2023.02.20)_Doc-1-Summary.csv into Database!\n",
      "Successfully imported 2022_IOTLE_-_Govt_subsidy_w_(added_non_local_exhibitor_20230308)_No_abuse_cases_Doc-1-Non_Local.csv into Database!\n",
      "Successfully imported 2022_IOTLE_-_Govt_subsidy_w_(added_non_local_exhibitor_20230308)_No_abuse_cases_Doc-1-Summary.csv into Database!\n",
      "Successfully imported 2022_Medical_-_Govt_subsidy_w_(added_non_local_exhibitor_20230308)_Doc-1-Non_Local.csv into Database!\n",
      "Successfully imported 2022_Medical_-_Govt_subsidy_w_(added_non_local_exhibitor_20230308)_Doc-1-Summary.csv into Database!\n",
      "Successfully imported 2022_Snacks_-Govt_subsidy_w_2022.08.18_with_BR_address_Checked_and_no_Abuse_case_Doc-1-Summary.csv into Database!\n",
      "Successfully imported 2022_Sports_&_Leisure_-_Govt_subsidy_w_2022.08.25_with_BR_address_(added_non_local_exhibitor_2023308)_Doc-1-Non_Local.csv into Database!\n",
      "Successfully imported 2022_Sports_&_Leisure_-_Govt_subsidy_w_2022.08.25_with_BR_address_(added_non_local_exhibitor_2023308)_Doc-1-Summary.csv into Database!\n",
      "Successfully imported 2022_SSF_-_Govt_subsidy_w_Final_ver_(revised_on_20230120)_Doc-1-Summary.csv into Database!\n",
      "Successfully imported 2023_AFF_-_Govt_subsidy_w_(4_line_address_-_revised_on_20230308)_2023.03.13_Doc-1-Non_Local.csv into Database!\n",
      "Successfully imported 2023_AFF_-_Govt_subsidy_w_(4_line_address_-_revised_on_20230308)_2023.03.13_Doc-1-Summary.csv into Database!\n",
      "Successfully imported 2023_ALMAC_Govt_subsidy_w_(4_line_address)_by_order_no,_BR_expiry_(2024.01.08)_Doc-1-Non_Local.csv into Database!\n",
      "Successfully imported 2023_ALMAC_Govt_subsidy_w_(4_line_address)_by_order_no,_BR_expiry_(2024.01.08)_Doc-1-Summary.csv into Database!\n",
      "Successfully imported 2023_ASGH_-_Govt_subsidy_w_(4_line_address)_2023.07.25_Doc-1-Non_Local.csv into Database!\n",
      "Successfully imported 2023_ASGH_-_Govt_subsidy_w_(4_line_address)_2023.07.25_Doc-1-Summary.csv into Database!\n",
      "Successfully imported 2023_Beauty__4106_Govt_subsidy_w_(4_line_address)_by_order_no,_BR_expiry_(revised_2023.10.12)_Doc-1-Non_Local.csv into Database!\n",
      "Successfully imported 2023_Beauty__4106_Govt_subsidy_w_(4_line_address)_by_order_no,_BR_expiry_(revised_2023.10.12)_Doc-1-Summary.csv into Database!\n",
      "Successfully imported 2023_BIP_Govt_subsidy_w_(4_line_address)_by_order_no,_BR_expiry_(2024.01.08)_Doc-1-Non_Local.csv into Database!\n",
      "Successfully imported 2023_BIP_Govt_subsidy_w_(4_line_address)_by_order_no,_BR_expiry_(2024.01.08)_Doc-1-Summary.csv into Database!\n",
      "Successfully imported 2023_Book_Govt_subsidy_w_(4_line_address)_by_order_no,_BR_expiry_(2023.10.12)_Doc-1-Non_Local.csv into Database!\n",
      "Successfully imported 2023_Book_Govt_subsidy_w_(4_line_address)_by_order_no,_BR_expiry_(2023.10.12)_Doc-1-Summary.csv into Database!\n",
      "Successfully imported 2023_CENTRESTAGE_Govt_subsidy_w_(4_line_address)_by_order_no,_BR_expiry_(revised_2023.10.25)_Doc-1-Non_Local.csv into Database!\n",
      "Successfully imported 2023_CENTRESTAGE_Govt_subsidy_w_(4_line_address)_by_order_no,_BR_expiry_(revised_2023.10.25)_Doc-1-Summary.csv into Database!\n",
      "Successfully imported 2023_Chill_11_Govt_subsidy_w_(4_line_address)_by_order_no,_BR_expiry_(2024.02.02)_Doc-1-Non_Local.csv into Database!\n",
      "Successfully imported 2023_Chill_11_Govt_subsidy_w_(4_line_address)_by_order_no,_BR_expiry_(2024.02.02)_Doc-1-Summary.csv into Database!\n",
      "Successfully imported 2023_eA_Govt_subsidy_w_(4_line_address)_by_order_no,_BR_expiry_(2023.12.08)_Doc-1-Non_Local.csv into Database!\n",
      "Successfully imported 2023_eA_Govt_subsidy_w_(4_line_address)_by_order_no,_BR_expiry_(2023.12.08)_Doc-1-Summary.csv into Database!\n",
      "Successfully imported 2023_Education_Govt_subsidy_(27.3.2023)_Doc-1-Non_Local.csv into Database!\n",
      "Successfully imported 2023_Education_Govt_subsidy_(27.3.2023)_Doc-1-Summary.csv into Database!\n",
      "Successfully imported 2023_HDE_Govt_subsidy_w_(4_line_address)_by_order_no,_BR_expiry_(2023.10.12)_Doc-1-Non_Local.csv into Database!\n",
      "Successfully imported 2023_HDE_Govt_subsidy_w_(4_line_address)_by_order_no,_BR_expiry_(2023.10.12)_Doc-1-Summary.csv into Database!\n",
      "Successfully imported 2023_HKEF(SE)_-_Govt_subsidy_w_(4_line_address)_by_order_no,_BR_expiry_(2023.09.18)_Doc-1-Non_Local.csv into Database!\n",
      "Successfully imported 2023_HKEF(SE)_-_Govt_subsidy_w_(4_line_address)_by_order_no,_BR_expiry_(2023.09.18)_Doc-1-Summary.csv into Database!\n",
      "Successfully imported 2023_HKIJS_-_Govt_subsidy_w_(4_line_address_-_revised_on_20230308)_by_order_no._Doc-1-Non_Local.csv into Database!\n",
      "Successfully imported 2023_HKIJS_-_Govt_subsidy_w_(4_line_address_-_revised_on_20230308)_by_order_no._Doc-1-Summary.csv into Database!\n",
      "Successfully imported 2023_HKILF(SE)_-_Govt_subsidy_w_(4_line_address_-_revised_on_20230308)_Local.csv into Database!\n",
      "Successfully imported 2023_HKILF(SE)_-_Govt_subsidy_w_(4_line_address_-_revised_on_20230308)_Non_Local_(excl_Mainland_China).csv into Database!\n",
      "Successfully imported 2023_Home_InStyle__Govt_subsidy_w_(1_line_address_-_28.07.2023)_Doc-1-Local.csv into Database!\n",
      "Successfully imported 2023_Home_InStyle__Govt_subsidy_w_(1_line_address_-_28.07.2023)_Doc-1-Non_Local.csv into Database!\n",
      "Successfully imported 2023_Home_InStyle__Govt_subsidy_w_(1_line_address_-_28.07.2023)_Doc-1-Summary.csv into Database!\n",
      "Successfully imported 2023_Home_InStyle__Govt_subsidy_w_(1_line_address_-_28.07.2023)_High_Risk_Non_Local.csv into Database!\n",
      "Successfully imported 2023_Home_Textiles_-_Govt_subsidy_w_(4_line_address_-_revised_on_20230308)_Doc-1-Non_Local.csv into Database!\n",
      "Successfully imported 2023_Home_Textiles_-_Govt_subsidy_w_(4_line_address_-_revised_on_20230308)_Doc-1-Summary.csv into Database!\n",
      "Successfully imported 2023_IOTLE_Govt_subsidy_w_(4_line_address)_by_order_no,_BR_expiry_(2023.12.29)_Doc-1-Non_Local.csv into Database!\n",
      "Successfully imported 2023_IOTLE_Govt_subsidy_w_(4_line_address)_by_order_no,_BR_expiry_(2023.12.29)_Doc-1-Summary.csv into Database!\n",
      "Successfully imported 2023_MarketingPulse_&_eTailingPulse_-_Govt_subsidy_w_(4_line_address_-_revised_on_20230308)_NO_Abuse_case_Doc-1-Non_Local.csv into Database!\n",
      "Successfully imported 2023_MarketingPulse_&_eTailingPulse_-_Govt_subsidy_w_(4_line_address_-_revised_on_20230308)_NO_Abuse_case_Doc-1-Summary.csv into Database!\n",
      "Successfully imported 2023_Medical_-_Govt_subsidy_w_(4_line_address_-_revised_on_20230308)_Doc-1-Non_Local.csv into Database!\n",
      "Successfully imported 2023_Medical_-_Govt_subsidy_w_(4_line_address_-_revised_on_20230308)_Doc-1-Summary.csv into Database!\n",
      "Successfully imported 2023_PrintPack_-_Govt_subsidy_w_(4_line_address)_2023.08.31_Doc-1-Non_Local.csv into Database!\n",
      "Successfully imported 2023_PrintPack_-_Govt_subsidy_w_(4_line_address)_2023.08.31_Doc-1-Summary.csv into Database!\n",
      "Successfully imported 2023_Wine_Govt_subsidy_w_(4_line_address)_by_order_no,_BR_expiry_(2024.01.30)_Doc-1-Non_Local.csv into Database!\n",
      "Successfully imported 2023_Wine_Govt_subsidy_w_(4_line_address)_by_order_no,_BR_expiry_(2024.01.30)_Doc-1-Summary.csv into Database!\n",
      "Successfully imported Asia_Summit_on_Global_Health_2022_-_Govt_subsidy_w_(added_non_local_exhibitor_20230308)Checked_and_no_abuse_case_Doc-1-Non_Local.csv into Database!\n",
      "Successfully imported Asia_Summit_on_Global_Health_2022_-_Govt_subsidy_w_(added_non_local_exhibitor_20230308)Checked_and_no_abuse_case_Doc-1-Summary.csv into Database!\n",
      "Successfully imported Belt_and_Road_Summit_2022_-_Govt_subsidy_w__(added_non_local_exhibitor)_checked_and_no_abuse_case_Doc-1-Non_Local.csv into Database!\n",
      "Successfully imported Belt_and_Road_Summit_2022_-_Govt_subsidy_w__(added_non_local_exhibitor)_checked_and_no_abuse_case_Doc-1-Summary.csv into Database!\n",
      "Successfully imported Belt_and_Rod_Summit_2023_-_Govt_subsidy_w_(4_line_address)_by_order_no,_BR_expiry_(revised_2023.08.03)__1_Dec_2023_with_Sponsor_Doc-1-Local.csv into Database!\n",
      "Successfully imported Belt_and_Rod_Summit_2023_-_Govt_subsidy_w_(4_line_address)_by_order_no,_BR_expiry_(revised_2023.08.03)__1_Dec_2023_with_Sponsor_Doc-1-Non_Local.csv into Database!\n",
      "Successfully imported Belt_and_Rod_Summit_2023_-_Govt_subsidy_w_(4_line_address)_by_order_no,_BR_expiry_(revised_2023.08.03)__1_Dec_2023_with_Sponsor_Doc-1-Summary.csv into Database!\n",
      "Successfully imported Business_of_IP_Asia_Forum_2022_-_Govt_subsidy_w_(added_non_local_exhibitor_20230308)_checked_and_no_abuse_case_Doc-1-Non_Local.csv into Database!\n",
      "Successfully imported Business_of_IP_Asia_Forum_2022_-_Govt_subsidy_w_(added_non_local_exhibitor_20230308)_checked_and_no_abuse_case_Doc-1-Summary.csv into Database!\n",
      "Successfully imported electronAsia_2022_-_Govt_subsidy_w_7.11.2022__(added_non_local_exhibitor)_checked_and_no_abuse_case_Doc-1-Non_Local.csv into Database!\n",
      "Successfully imported electronAsia_2022_-_Govt_subsidy_w_7.11.2022__(added_non_local_exhibitor)_checked_and_no_abuse_case_Doc-1-Summary.csv into Database!\n",
      "Successfully imported Fashion_Instyle_2023_-_Govt_subsidy_w_(revised_on_20230315)_01.06.2023_(with_address)_Doc-1-Summary.csv into Database!\n",
      "Successfully imported Food_Expo_2023_(Public)_-_Govt_subsidy_w_(4_line_address)_by_order_no,_BR_expiry_(2023.10.25)_Doc-1-Non_Local.csv into Database!\n",
      "Successfully imported Food_Expo_2023_(Public)_-_Govt_subsidy_w_(4_line_address)_by_order_no,_BR_expiry_(2023.10.25)_Doc-1-Summary.csv into Database!\n",
      "Successfully imported Food_Expo_2023_(Public)_-_Govt_subsidy_w_(4_line_address)_by_order_no,_BR_expiry_(2023.10.25)_Summary_(spare).csv into Database!\n",
      "Successfully imported Food_PRO_2023_[4127]_Govt_subsidy_w_(4_line_address)_by_order_no,_BR_expiry,_BR_Address_Doc-1-Local.csv into Database!\n",
      "Successfully imported Food_PRO_2023_[4127]_Govt_subsidy_w_(4_line_address)_by_order_no,_BR_expiry,_BR_Address_Doc-1-Non_Local.csv into Database!\n",
      "Successfully imported Food_PRO_2023_[4127]_Govt_subsidy_w_(4_line_address)_by_order_no,_BR_expiry,_BR_Address_Doc-1-Summary.csv into Database!\n",
      "Successfully imported Govt_subsidy_Asia_Summit_on_Global_Health_(SP)(added_non_local_exhibitor_20230309)_Doc-1-Non_Local.csv into Database!\n",
      "Successfully imported Govt_subsidy_Asia_Summit_on_Global_Health_(SP)(added_non_local_exhibitor_20230309)_Doc-1-Summary.csv into Database!\n",
      "Successfully imported Govt_subsidy_CENTRESTAGE_(added_non_local_exhibitor_20230309)_Doc-1-Non_Local.csv into Database!\n",
      "Successfully imported Govt_subsidy_CENTRESTAGE_(added_non_local_exhibitor_20230309)_Doc-1-Summary.csv into Database!\n",
      "Successfully imported Govt_subsidy_DIAMOND_(added_non_local_exhibitor_20230308)_Doc-1-Non_Local.csv into Database!\n",
      "Successfully imported Govt_subsidy_DIAMOND_(added_non_local_exhibitor_20230308)_Doc-1-Summary.csv into Database!\n",
      "Successfully imported Govt_subsidy_eA_(revised_on_20211124)_Doc-1-Summary.csv into Database!\n",
      "Successfully imported Govt_subsidy_ECO_(revised_on_20211124)_Doc-1-Summary.csv into Database!\n",
      "Successfully imported Govt_subsidy_HKEF(AE)_(added_non_local_exhibitor_20230309)_Doc-1-Non_Local.csv into Database!\n",
      "Successfully imported Govt_subsidy_HKEF(AE)_(added_non_local_exhibitor_20230309)_Doc-1-Summary.csv into Database!\n",
      "Successfully imported Govt_subsidy_HKILF(AE)_(added_non_local_exhibitor_20230309)_Doc-1-Non_Local.csv into Database!\n",
      "Successfully imported Govt_subsidy_HKILF(AE)_(added_non_local_exhibitor_20230309)_Doc-1-Summary.csv into Database!\n",
      "Successfully imported Govt_subsidy_HKWCF_(revised_on_20211124)_updated_BR_date_Doc-1-Summary.csv into Database!\n",
      "Successfully imported Govt_subsidy_ICT_(revised_on_20211124)_Doc-1-Summary.csv into Database!\n",
      "Successfully imported Govt_subsidy_IOTLE_(added_non_local_exhibitor_20230309)_Doc-1-Non_Local.csv into Database!\n",
      "Successfully imported Govt_subsidy_IOTLE_(added_non_local_exhibitor_20230309)_Doc-1-Summary.csv into Database!\n",
      "Successfully imported Govt_subsidy_LifeStyle_Soucring_Show_(added_non_local_exhibitor_20230309)_Doc-1-Non_Local.csv into Database!\n",
      "Successfully imported Govt_subsidy_LifeStyle_Soucring_Show_(added_non_local_exhibitor_20230309)_Doc-1-Summary.csv into Database!\n",
      "Successfully imported Govt_subsidy_MEDICAL_(added_non_local_exhibitor_20230309)_Doc-1-Non_Local.csv into Database!\n",
      "Successfully imported Govt_subsidy_MEDICAL_(added_non_local_exhibitor_20230309)_Doc-1-Summary.csv into Database!\n",
      "Successfully imported Govt_subsidy_Education_2021_(added_non_local_exhibitor_20230308)_Doc-1-Non_Local.csv into Database!\n",
      "Successfully imported Govt_subsidy_Education_2021_(added_non_local_exhibitor_20230308)_Doc-1-Summary.csv into Database!\n",
      "Successfully imported Govt_subsidy_FOOD_(added_non_local_exhibitor_20230308)_Doc-1-Non_Local.csv into Database!\n",
      "Successfully imported Govt_subsidy_FOOD_(added_non_local_exhibitor_20230308)_Doc-1-Summary.csv into Database!\n",
      "Successfully imported Govt_subsidy_JEWELLERY_(added_non_local_exhibitor_20230308)_Doc-1-Non_Local.csv into Database!\n",
      "Successfully imported Govt_subsidy_JEWELLERY_(added_non_local_exhibitor_20230308)_Doc-1-Summary.csv into Database!\n",
      "Successfully imported Govt_subsidy_LSF_2021_(form_revised_on_20211105)_Doc-1-Summary.csv into Database!\n",
      "Successfully imported Govt_subsidy_Optical_2021_(added_non_local_exhibitor_20230308)_Doc-1-Non_Local.csv into Database!\n",
      "Successfully imported Govt_subsidy_Optical_2021_(added_non_local_exhibitor_20230308)_Doc-1-Summary.csv into Database!\n",
      "Successfully imported Govt_subsidy_SNACKS_(added_non_local_exhibitor_20230308)_Doc-1-Non_Local.csv into Database!\n",
      "Successfully imported Govt_subsidy_SNACKS_(added_non_local_exhibitor_20230308)_Doc-1-Summary.csv into Database!\n",
      "Successfully imported HK_Int'l_Tea_Fair_2022_-_Govt_subsidy_w_(added_non_local_exhibitor_20230308)_Checked_and_no_Abuse_case_Doc-1-Non_Local.csv into Database!\n",
      "Successfully imported HK_Int'l_Tea_Fair_2022_-_Govt_subsidy_w_(added_non_local_exhibitor_20230308)_Checked_and_no_Abuse_case_Doc-1-Summary.csv into Database!\n",
      "Successfully imported HKTDC_HK_Baby_Products_Fair_2023_-_Govt_subsidy_w_16_Mar_2023_(with_address)_Doc-1-Summary.csv into Database!\n",
      "Successfully imported HKTDC_HK_Baby_Products_Fair_2023_-_Govt_subsidy_w_16_Mar_2023_(with_address)_High_Risk_Non_Local.csv into Database!\n",
      "Successfully imported HKTDC_HK_Electronics_Fair_(AE)_2022_-_Govt_subsidy_w_(added_non_local_exhibitor_20230308)_Doc-1-Non_Local.csv into Database!\n",
      "Successfully imported HKTDC_HK_Electronics_Fair_(AE)_2022_-_Govt_subsidy_w_(added_non_local_exhibitor_20230308)_Doc-1-Summary.csv into Database!\n",
      "Successfully imported HKTDC_HK_Int'l_Diamond,_GEM_&_Pearl_2023_-_Govt_subsidy_w_(revised_on_20230315)_19_Jun_2023_(with_address)_(updated_BR_18_Sep_2023)_Doc-1-Summary.csv into Database!\n",
      "Successfully imported HKTDC_HK_Int'l_Diamond,_GEM_&_Pearl_2023_-_Govt_subsidy_w_(revised_on_20230315)_19_Jun_2023_(with_address)_(updated_BR_18_Sep_2023)_High_Risk_Non_Local.csv into Database!\n",
      "Successfully imported HKTDC_HK_International_Tea_Fair_2023_-_Govt_subsidy_w_(4_line_address)_by_order_no,_BR_expiry_(revised_2023.08.03)__20_Oct_2023_with_address_Doc-1-Local.csv into Database!\n",
      "Successfully imported HKTDC_HK_International_Tea_Fair_2023_-_Govt_subsidy_w_(4_line_address)_by_order_no,_BR_expiry_(revised_2023.08.03)__20_Oct_2023_with_address_Doc-1-Non_Local.csv into Database!\n",
      "Successfully imported HKTDC_HK_International_Tea_Fair_2023_-_Govt_subsidy_w_(4_line_address)_by_order_no,_BR_expiry_(revised_2023.08.03)__20_Oct_2023_with_address_Doc-1-Summary.csv into Database!\n",
      "Successfully imported HKTDC_Hong_Kong_International_Lighting_Fair_(AE)_2022_-_Govt_subsidy_w_(added_non_local_exhibitor_20230308)_Doc-1-Non_Local.csv into Database!\n",
      "Successfully imported HKTDC_Hong_Kong_International_Lighting_Fair_(AE)_2022_-_Govt_subsidy_w_(added_non_local_exhibitor_20230308)_Doc-1-Summary.csv into Database!\n",
      "Successfully imported HKTDC_Hong_Kong_Sports_and_Leisure_Expo_2023_-_Govt_subsidy_w_by_order_no,_BR_expiry_30_Oct_2023_(with_address)_Doc-1-Non_Local.csv into Database!\n",
      "Successfully imported HKTDC_Hong_Kong_Sports_and_Leisure_Expo_2023_-_Govt_subsidy_w_by_order_no,_BR_expiry_30_Oct_2023_(with_address)_Doc-1-Summary.csv into Database!\n",
      "Successfully imported HKTDC_Hong_Kong_Toys_&_Games_Fair_2023_-_Govt_subsidy_w_(revised_on_20230314)_Doc-1-Non_Local.csv into Database!\n",
      "Successfully imported HKTDC_Hong_Kong_Toys_&_Games_Fair_2023_-_Govt_subsidy_w_(revised_on_20230314)_Doc-1-Summary.csv into Database!\n",
      "Successfully imported HKTDC_International_ICT_Expo_2022_-_Govt_subsidy_w_(revised_on_20230207)_v2_Doc-1-Summary.csv into Database!\n",
      "Successfully imported HKTDC_Watch_and_Clock_2022-_Govt_subsidy_w_Final_Ver_(added_non_local_exhibitor_20230308)_Doc-1-Non_Local.csv into Database!\n",
      "Successfully imported HKTDC_Watch_and_Clock_2022-_Govt_subsidy_w_Final_Ver_(added_non_local_exhibitor_20230308)_Doc-1-Summary.csv into Database!\n",
      "Successfully imported Hong_Kong_International_Stationery_&_School_Supplies_Fair_2023_-_Govt_subsidy_w_(added_non_local_exhibitor_202303010)_Checked_and_no_abuse_case_Doc-1-Non_Local.csv into Database!\n",
      "Successfully imported Hong_Kong_International_Stationery_&_School_Supplies_Fair_2023_-_Govt_subsidy_w_(added_non_local_exhibitor_202303010)_Checked_and_no_abuse_case_Doc-1-Summary.csv into Database!\n",
      "Successfully imported InnoEx_2023_-_Govt_subsidy_w__(revised_2023.08.03)__13_Dec_2023_Doc-1_Local.csv into Database!\n",
      "Successfully imported InnoEx_2023_-_Govt_subsidy_w__(revised_2023.08.03)__13_Dec_2023_Doc-1-Non_Local.csv into Database!\n",
      "Successfully imported InnoEx_2023_-_Govt_subsidy_w__(revised_2023.08.03)__13_Dec_2023_Doc-1-Summary.csv into Database!\n",
      "Successfully imported W&C_2023_-_Govt_subsidy_w_(4_line_address)_by_order_no,_BR_expiry_Doc-1-Non_Local.csv into Database!\n",
      "Successfully imported W&C_2023_-_Govt_subsidy_w_(4_line_address)_by_order_no,_BR_expiry_Doc-1-Summary_(BACK_UP).csv into Database!\n",
      "Successfully imported W&C_2023_-_Govt_subsidy_w_(4_line_address)_by_order_no,_BR_expiry_Doc-1-Summary.csv into Database!\n",
      "Successfully imported Wine_&_Spirits_Fair_(Special_Edition)_-_Govt_subsidy_w_20_Jan_2023_(with_address)_no_abuse_Doc-1-Summary.csv into Database!\n",
      "Successfully imported World_of_Snacks_2023_Govt_subsidy_w_(4_line_address)_by_order_no,_BR_expiry_(2023.10.31)_Doc-1-Non_Local.csv into Database!\n",
      "Successfully imported World_of_Snacks_2023_Govt_subsidy_w_(4_line_address)_by_order_no,_BR_expiry_(2023.10.31)_Doc-1-Summary_(SPARE).csv into Database!\n",
      "Successfully imported World_of_Snacks_2023_Govt_subsidy_w_(4_line_address)_by_order_no,_BR_expiry_(2023.10.31)_Doc-1-Summary.csv into Database!\n"
     ]
    },
    {
     "data": {
      "text/plain": [
       "<function Connection.close()>"
      ]
     },
     "execution_count": 2,
     "metadata": {},
     "output_type": "execute_result"
    }
   ],
   "source": [
    "import pandas as pd\n",
    "import sqlite3\n",
    "import os\n",
    "import string\n",
    "\n",
    "Fair_database_database = r'C:\\Users\\hofong\\Desktop\\python\\Python working station\\Database\\TDC_Fair_database.db'\n",
    "TDC_BR_Data_database = r'C:\\Users\\hofong\\Desktop\\python\\Python working station\\Database\\TDC_BR_Data_database.db'\n",
    "folder = r'C:\\Users\\hofong\\Desktop\\python\\Python working station\\Import files to DB'\n",
    "csv_container = r'C:\\Users\\hofong\\Desktop\\python\\Python working station\\Import files to DB\\CSV Converter'\n",
    "\n",
    "if not os.path.exists(csv_container):\n",
    "    os.makedirs(csv_container)\n",
    "\n",
    "conn = sqlite3.connect(Fair_database_database)\n",
    "cursor = conn.cursor()\n",
    "\n",
    "file_list=[]\n",
    "file_names=[]\n",
    "\n",
    "excel_dic = {}\n",
    "\n",
    "\n",
    "\n",
    "\n",
    "for root, directory, files in os.walk(folder):\n",
    "    for file in files:\n",
    "        if file.endswith('.xlsx'):\n",
    "            file_path = os.path.join(root, file)\n",
    "\n",
    "            xls = pd.ExcelFile(file_path)\n",
    "            for page_name in xls.sheet_names:\n",
    "            # Check if the sheet name contains specific keywords\n",
    "                if any(name_key in page_name.lower() for name_key in ['summary', 'non', 'local']):\n",
    "                    try:\n",
    "                        df = pd.read_excel(file_path, sheet_name=page_name, skiprows=range(9))\n",
    "                            # Modify column headers\n",
    "                        revised_headers = [str(header).replace(\"*\",\"_\").replace('#','_').replace(' ', '_').replace('(', '').replace(')', '').replace(',', '_').replace('?', '') for header in df.columns]\n",
    "                        df.columns = revised_headers\n",
    "                        \n",
    "                        # Save the DataFrame as a CSV file\n",
    "                        change_to_csv_format = os.path.join(csv_container, file.replace('.xlsx', f'_{page_name}.csv')).replace('#','_')\n",
    "                        df.to_csv(change_to_csv_format, index=False, encoding='utf_8_sig')\n",
    "                        print(f\"Saved CSV file: {change_to_csv_format}\")\n",
    "                    except:\n",
    "                        continue\n",
    "\n",
    "\n",
    "        if file.endswith('.csv'):\n",
    "            file_path = os.path.join(root, file)\n",
    "            file_list.append(file_path)\n",
    "            file_name = file.replace(\" \",\"_\")\n",
    "            file_names.append(file_name)\n",
    "            excel_dic = {file_name:file_list for file_name, file_list in zip(file_names, file_list)}\n",
    "\n",
    "for file_name, excel_path in excel_dic.items():\n",
    "    df = pd.read_csv(excel_path)\n",
    "    sql_revised_header = df.columns\n",
    "    preparing_header1 = '`'+'` TEXT, `'.join(sql_revised_header)+'` TEXT'\n",
    "    preparing_header2 = preparing_header1.split(',')\n",
    "    preparing_header3 =[]\n",
    "    \n",
    "    #change data type\n",
    "    for header in preparing_header2:\n",
    "        if 'No.' in header or '$' in header or 'Total' in header or 'Booth_Area' in header or 'Net' in header or 'Charges' in header or 'Calculated' in header or 'Branch_Number' in header or 'Net_Order' in header or 'C&E' in header or 'SME' in header or 'product_listing' in header or 'Extended_online' in header or 'booth' in header or 'Package' in header or 'Price' in header or 'Calculated' in header or 'Amount' in header or 'charges' in header or 'eFair_Catalogue' in header or 'Price' in header or 'Unnamed' in header or 'Diff' in header:\n",
    "            header = header.replace('TEXT', 'INTEGER')\n",
    "            preparing_header3.append(header)\n",
    "        elif 'Certificate_No.' in header or 'Certificate' in header:\n",
    "            header = header.replace('INTEGER', 'TEXT PRIMARY KEY')\n",
    "            preparing_header3.append(header)\n",
    "        else:\n",
    "            preparing_header3.append(header)\n",
    "    cursor.execute (f'CREATE TABLE IF NOT EXISTS `{file_name}` ( {' ,'.join(preparing_header3)});')\n",
    "    df.to_sql(file_name, conn, if_exists='append', index=False)\n",
    "    print(f\"Successfully imported {file_name} into Database!\")\n",
    "\n",
    "for file_name, excel_path in excel_dic.items():\n",
    "    cursor.execute (f'ALTER TABLE `{file_name}` RENAME TO `HKTDC Fair {file_name}`')\n",
    "\n",
    "        \n",
    "conn.close"
   ]
  }
 ],
 "metadata": {
  "kernelspec": {
   "display_name": ".venv",
   "language": "python",
   "name": "python3"
  },
  "language_info": {
   "codemirror_mode": {
    "name": "ipython",
    "version": 3
   },
   "file_extension": ".py",
   "mimetype": "text/x-python",
   "name": "python",
   "nbconvert_exporter": "python",
   "pygments_lexer": "ipython3",
   "version": "3.12.1"
  }
 },
 "nbformat": 4,
 "nbformat_minor": 2
}
