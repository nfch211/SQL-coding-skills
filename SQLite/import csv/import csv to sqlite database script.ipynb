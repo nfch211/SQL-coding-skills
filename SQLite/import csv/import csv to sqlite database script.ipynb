{
 "cells": [
  {
   "cell_type": "code",
   "execution_count": 2,
   "metadata": {},
   "outputs": [
    {
     "name": "stdout",
     "output_type": "stream",
     "text": [
      "Successfully imported brand.csv into Database!\n",
      "Successfully imported t_alibaba_data.csv into Database!\n",
      "Successfully imported user.csv into Database!\n",
      "Successfully imported user_brand.csv into Database!\n"
     ]
    },
    {
     "data": {
      "text/plain": [
       "<function Connection.close()>"
      ]
     },
     "execution_count": 2,
     "metadata": {},
     "output_type": "execute_result"
    }
   ],
   "source": [
    "import pandas as pd\n",
    "import sqlite3\n",
    "import os\n",
    "\n",
    "database = r'C:\\Users\\nickf\\OneDrive\\桌面\\Python\\python working station\\database\\nicksdatabase.db'\n",
    "folder = r'C:\\Users\\nickf\\OneDrive\\桌面\\Python\\python working station\\import csv to sqlite database'\n",
    "csv_container = r'C:\\Users\\nickf\\OneDrive\\桌面\\Python\\python working station\\import csv to sqlite database\\CSV Converter'\n",
    "\n",
    "if not os.path.exists(csv_container):\n",
    "    os.makedirs(csv_container)\n",
    "\n",
    "conn = sqlite3.connect(database)\n",
    "cursor = conn.cursor()\n",
    "\n",
    "file_list=[]\n",
    "file_names=[]\n",
    "\n",
    "excel_dic = {}\n",
    "\n",
    "\n",
    "\n",
    "for root, directory, files in os.walk(folder):\n",
    "    for file in files:\n",
    "        if file.endswith('.xlsx'):\n",
    "            file_path = os.path.join(root, file)\n",
    "\n",
    "            \n",
    "\n",
    "            #check if targeted worksheet is in the excel file, only extract data that is relevant if yes.\n",
    "            try:\n",
    "                xls = pd.ExcelFile(file_path)\n",
    "                if 'Event Details' in xls.sheet_names:\n",
    "                    df = pd.read_excel(file_path, sheet_name='Event Details', skiprows=range(4))\n",
    "                    df = df.iloc[4:]\n",
    "                    headers = df.columns.tolist()\n",
    "                    revised_header = [header.replace(' ', '_').replace('(', '').replace(')', '').replace(',', '_').replace('?', '') for header in headers] \n",
    "                    df.columns = revised_header\n",
    "                    change_to_csv_format = (os.path.join(csv_container, file.replace('.xlsx', '.csv') ))\n",
    "                    df.to_csv(change_to_csv_format, index=False, encoding='utf_8_sig')\n",
    "                    file_list.pop(file_list.index(file_path))\n",
    "                else: \n",
    "                    df = pd.read_excel(file_path)\n",
    "                    headers = df.columns.tolist()\n",
    "                    revised_header = [header.replace(' ', '_').replace('(', '').replace(')', '').replace(',', '_').replace('?', '') for header in headers] \n",
    "                    df.columns = revised_header\n",
    "                    change_to_csv_format = (os.path.join(csv_container, file.replace('.xlsx', '.csv') ))\n",
    "                    df.to_csv(change_to_csv_format, index=False, encoding='utf_8_sig')\n",
    "         \n",
    "\n",
    "\n",
    "\n",
    "            except:\n",
    "                pass\n",
    "\n",
    "        if file.endswith('.csv'):\n",
    "            file_path = os.path.join(root, file)\n",
    "            file_list.append(file_path)\n",
    "            file_name = file.replace(\" \",\"_\")\n",
    "            file_names.append(file_name)\n",
    "            excel_dic = {file_name:file_list for file_name, file_list in zip(file_names, file_list)}\n",
    "\n",
    "for file_name, excel_path in excel_dic.items():\n",
    "    df = pd.read_csv(excel_path)\n",
    "    sql_revised_header = df.columns\n",
    "    preparing_header1 = '`'+'` TEXT, `'.join(sql_revised_header)+'` TEXT'\n",
    "    preparing_header2 = preparing_header1.split(',')\n",
    "    preparing_header3 =[]\n",
    "    \n",
    "    #change data type\n",
    "    for header in preparing_header2:\n",
    "        if 'No.' in header or '$' in header or 'Total' in header or 'Booth_Area' in header or 'Net' in header or 'Charges' in header or 'Calculated' in header or 'Branch_Number' in header or 'Net_Order' in header or 'C&E' in header or 'SME' in header or 'product_listing' in header or 'Extended_online' in header or 'booth' in header or 'Package' in header or 'Price' in header or 'Calculated' in header or 'Amount' in header or 'charges' in header or 'eFair_Catalogue' in header or 'Price' in header or 'Unnamed' in header or 'Diff' in header:\n",
    "            header = header.replace('TEXT', 'INTEGER')\n",
    "            preparing_header3.append(header)\n",
    "        elif '8-digit' in header:\n",
    "            header = header.replace('TEXT', 'TEXT PRIMARY KEY')\n",
    "            preparing_header3.append(header)\n",
    "        else:\n",
    "            preparing_header3.append(header)\n",
    "\n",
    "            \n",
    "    cursor.execute (f'CREATE TABLE IF NOT EXISTS `{file_name}` ( {' ,'.join(preparing_header3)});')\n",
    "    df.to_sql(file_name, conn, if_exists='append', index=False)\n",
    "    print(f\"Successfully imported {file_name} into Database!\")\n",
    "\n",
    "\n",
    "        \n",
    "\n",
    "\n",
    "\n",
    "conn.close"
   ]
  }
 ],
 "metadata": {
  "kernelspec": {
   "display_name": "Python 3",
   "language": "python",
   "name": "python3"
  },
  "language_info": {
   "codemirror_mode": {
    "name": "ipython",
    "version": 3
   },
   "file_extension": ".py",
   "mimetype": "text/x-python",
   "name": "python",
   "nbconvert_exporter": "python",
   "pygments_lexer": "ipython3",
   "version": "3.12.2"
  }
 },
 "nbformat": 4,
 "nbformat_minor": 2
}
