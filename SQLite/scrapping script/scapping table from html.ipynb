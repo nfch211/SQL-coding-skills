{
 "cells": [
  {
   "cell_type": "code",
   "execution_count": 6,
   "metadata": {},
   "outputs": [
    {
     "name": "stdout",
     "output_type": "stream",
     "text": [
      "<table class=\"default_table_fixed\" id=\"default_table\"></table>\n"
     ]
    }
   ],
   "source": [
    "import requests\n",
    "import pandas as pd\n",
    "from bs4 import BeautifulSoup\n",
    "\n",
    "\n",
    "\n",
    "\n",
    "url = 'https://www.censtatd.gov.hk/en/web_table.html?id=110-06831'\n",
    "\n",
    "page = requests.get(url)\n",
    "\n",
    "soup = BeautifulSoup(page.text, 'html')\n",
    "\n",
    "table = soup.find('table')\n",
    "print(table)\n",
    "header = table.find_all('th')\n",
    "headers = []\n",
    "for i in header:\n",
    "    i = i.text\n",
    "    headers.append(i)\n",
    "\n",
    "\n",
    "\n",
    "table_value = []\n",
    "for x in table.find_all('tr')[1:]:\n",
    "    td_tags = x.find_all('td')\n",
    "    td_val = [y.text for y in td_tags]\n",
    "    table_value.append(td_val)\n",
    "    \n",
    "df = pd.DataFrame(table_value, columns=headers)\n",
    "\n",
    "df.to_csv(r'C:\\Users\\nickf\\OneDrive\\桌面\\Python\\python working station\\scrappingtable.csv', index=False)\n",
    "\n",
    "\n",
    "    \n"
   ]
  },
  {
   "cell_type": "code",
   "execution_count": null,
   "metadata": {},
   "outputs": [],
   "source": []
  }
 ],
 "metadata": {
  "kernelspec": {
   "display_name": "Python 3",
   "language": "python",
   "name": "python3"
  },
  "language_info": {
   "codemirror_mode": {
    "name": "ipython",
    "version": 3
   },
   "file_extension": ".py",
   "mimetype": "text/x-python",
   "name": "python",
   "nbconvert_exporter": "python",
   "pygments_lexer": "ipython3",
   "version": "3.12.2"
  }
 },
 "nbformat": 4,
 "nbformat_minor": 2
}
